{
 "cells": [
  {
   "cell_type": "code",
   "execution_count": 1,
   "metadata": {},
   "outputs": [],
   "source": [
    "import pandas as pd"
   ]
  },
  {
   "cell_type": "code",
   "execution_count": 13,
   "metadata": {},
   "outputs": [],
   "source": [
    "df = pd.read_csv(\"datasets_models/data.csv\")"
   ]
  },
  {
   "cell_type": "code",
   "execution_count": 14,
   "metadata": {},
   "outputs": [],
   "source": [
    "df = df.drop([\"temp_anterior\",\"precip_anterior\",\"hume_anterior\",\"data_lectura\"], axis=1)"
   ]
  },
  {
   "cell_type": "code",
   "execution_count": 15,
   "metadata": {},
   "outputs": [],
   "source": [
    "media_por_comarca = df.groupby('comarca').mean()"
   ]
  },
  {
   "cell_type": "code",
   "execution_count": 19,
   "metadata": {},
   "outputs": [
    {
     "data": {
      "text/html": [
       "<div>\n",
       "<style scoped>\n",
       "    .dataframe tbody tr th:only-of-type {\n",
       "        vertical-align: middle;\n",
       "    }\n",
       "\n",
       "    .dataframe tbody tr th {\n",
       "        vertical-align: top;\n",
       "    }\n",
       "\n",
       "    .dataframe thead th {\n",
       "        text-align: right;\n",
       "    }\n",
       "</style>\n",
       "<table border=\"1\" class=\"dataframe\">\n",
       "  <thead>\n",
       "    <tr style=\"text-align: right;\">\n",
       "      <th></th>\n",
       "      <th>temp</th>\n",
       "      <th>precip</th>\n",
       "      <th>hume</th>\n",
       "    </tr>\n",
       "    <tr>\n",
       "      <th>comarca</th>\n",
       "      <th></th>\n",
       "      <th></th>\n",
       "      <th></th>\n",
       "    </tr>\n",
       "  </thead>\n",
       "  <tbody>\n",
       "    <tr>\n",
       "      <th>Alt Penedès</th>\n",
       "      <td>15.046818</td>\n",
       "      <td>0.039252</td>\n",
       "      <td>69.076541</td>\n",
       "    </tr>\n",
       "    <tr>\n",
       "      <th>Baix Llobregat</th>\n",
       "      <td>15.795221</td>\n",
       "      <td>0.039735</td>\n",
       "      <td>70.747496</td>\n",
       "    </tr>\n",
       "    <tr>\n",
       "      <th>Barcelonès</th>\n",
       "      <td>16.910800</td>\n",
       "      <td>0.034716</td>\n",
       "      <td>66.693033</td>\n",
       "    </tr>\n",
       "    <tr>\n",
       "      <th>Garraf</th>\n",
       "      <td>15.971018</td>\n",
       "      <td>0.039349</td>\n",
       "      <td>70.343688</td>\n",
       "    </tr>\n",
       "    <tr>\n",
       "      <th>Maresme</th>\n",
       "      <td>15.531038</td>\n",
       "      <td>0.043327</td>\n",
       "      <td>72.849098</td>\n",
       "    </tr>\n",
       "    <tr>\n",
       "      <th>Vallès Occidental</th>\n",
       "      <td>14.603568</td>\n",
       "      <td>0.038988</td>\n",
       "      <td>71.635746</td>\n",
       "    </tr>\n",
       "    <tr>\n",
       "      <th>Vallès Oriental</th>\n",
       "      <td>13.231808</td>\n",
       "      <td>0.047054</td>\n",
       "      <td>70.814362</td>\n",
       "    </tr>\n",
       "  </tbody>\n",
       "</table>\n",
       "</div>"
      ],
      "text/plain": [
       "                        temp    precip       hume\n",
       "comarca                                          \n",
       "Alt Penedès        15.046818  0.039252  69.076541\n",
       "Baix Llobregat     15.795221  0.039735  70.747496\n",
       "Barcelonès         16.910800  0.034716  66.693033\n",
       "Garraf             15.971018  0.039349  70.343688\n",
       "Maresme            15.531038  0.043327  72.849098\n",
       "Vallès Occidental  14.603568  0.038988  71.635746\n",
       "Vallès Oriental    13.231808  0.047054  70.814362"
      ]
     },
     "execution_count": 19,
     "metadata": {},
     "output_type": "execute_result"
    }
   ],
   "source": [
    "media_por_comarca"
   ]
  },
  {
   "cell_type": "code",
   "execution_count": 18,
   "metadata": {},
   "outputs": [],
   "source": [
    "media_por_comarca.to_csv(\"mean_x_comarca.csv\")"
   ]
  }
 ],
 "metadata": {
  "kernelspec": {
   "display_name": "Python 3",
   "language": "python",
   "name": "python3"
  },
  "language_info": {
   "codemirror_mode": {
    "name": "ipython",
    "version": 3
   },
   "file_extension": ".py",
   "mimetype": "text/x-python",
   "name": "python",
   "nbconvert_exporter": "python",
   "pygments_lexer": "ipython3",
   "version": "3.11.4"
  },
  "orig_nbformat": 4
 },
 "nbformat": 4,
 "nbformat_minor": 2
}

{
 "cells": [
  {
   "cell_type": "code",
   "execution_count": 1,
   "metadata": {},
   "outputs": [],
   "source": [
    "import pandas as pd"
   ]
  },
  {
   "cell_type": "code",
   "execution_count": 2,
   "metadata": {},
   "outputs": [],
   "source": [
    "folder = \"./datasets/\""
   ]
  },
  {
   "cell_type": "code",
   "execution_count": 103,
   "metadata": {},
   "outputs": [],
   "source": [
    "df_mesures = pd.read_csv(folder + \"datos_hume.csv\", header=0).drop(['Unnamed: 0'], axis=1)"
   ]
  },
  {
   "cell_type": "code",
   "execution_count": 106,
   "metadata": {},
   "outputs": [],
   "source": [
    "df_mesures['data_lectura'] = pd.to_datetime(df_mesures['data_lectura']).dt.date"
   ]
  },
  {
   "cell_type": "code",
   "execution_count": 107,
   "metadata": {},
   "outputs": [],
   "source": [
    "df_mesures['data_lectura'] = pd.to_datetime(df_mesures['data_lectura'])\n",
    "\n",
    "# Agrupar por \"data_lectura\" y calcular la suma de \"valor_lectura\"\n",
    "df_mean_por_fecha = df_mesures.groupby(df_mesures['data_lectura'].dt.date)['valor_lectura'].mean().reset_index()\n",
    "\n",
    "# Eliminar las columnas 'id', 'codi_estacio' y 'codi_variable'\n",
    "# df_mesures = df_mesures.drop(['id', 'codi_estacio', 'codi_variable'], axis=1)"
   ]
  },
  {
   "cell_type": "code",
   "execution_count": 108,
   "metadata": {},
   "outputs": [
    {
     "data": {
      "text/html": [
       "<div>\n",
       "<style scoped>\n",
       "    .dataframe tbody tr th:only-of-type {\n",
       "        vertical-align: middle;\n",
       "    }\n",
       "\n",
       "    .dataframe tbody tr th {\n",
       "        vertical-align: top;\n",
       "    }\n",
       "\n",
       "    .dataframe thead th {\n",
       "        text-align: right;\n",
       "    }\n",
       "</style>\n",
       "<table border=\"1\" class=\"dataframe\">\n",
       "  <thead>\n",
       "    <tr style=\"text-align: right;\">\n",
       "      <th></th>\n",
       "      <th>id</th>\n",
       "      <th>codi_estacio</th>\n",
       "      <th>codi_variable</th>\n",
       "      <th>data_lectura</th>\n",
       "      <th>valor_lectura</th>\n",
       "    </tr>\n",
       "  </thead>\n",
       "  <tbody>\n",
       "    <tr>\n",
       "      <th>0</th>\n",
       "      <td>CA330101090000</td>\n",
       "      <td>CA</td>\n",
       "      <td>33</td>\n",
       "      <td>2009-01-01</td>\n",
       "      <td>85.0</td>\n",
       "    </tr>\n",
       "    <tr>\n",
       "      <th>1</th>\n",
       "      <td>CC330101090000</td>\n",
       "      <td>CC</td>\n",
       "      <td>33</td>\n",
       "      <td>2009-01-01</td>\n",
       "      <td>94.0</td>\n",
       "    </tr>\n",
       "    <tr>\n",
       "      <th>2</th>\n",
       "      <td>CD330101090000</td>\n",
       "      <td>CD</td>\n",
       "      <td>33</td>\n",
       "      <td>2009-01-01</td>\n",
       "      <td>93.0</td>\n",
       "    </tr>\n",
       "    <tr>\n",
       "      <th>3</th>\n",
       "      <td>CE330101090000</td>\n",
       "      <td>CE</td>\n",
       "      <td>33</td>\n",
       "      <td>2009-01-01</td>\n",
       "      <td>88.0</td>\n",
       "    </tr>\n",
       "    <tr>\n",
       "      <th>4</th>\n",
       "      <td>CG330101090000</td>\n",
       "      <td>CG</td>\n",
       "      <td>33</td>\n",
       "      <td>2009-01-01</td>\n",
       "      <td>50.0</td>\n",
       "    </tr>\n",
       "    <tr>\n",
       "      <th>...</th>\n",
       "      <td>...</td>\n",
       "      <td>...</td>\n",
       "      <td>...</td>\n",
       "      <td>...</td>\n",
       "      <td>...</td>\n",
       "    </tr>\n",
       "    <tr>\n",
       "      <th>22356006</th>\n",
       "      <td>Z8332805232200</td>\n",
       "      <td>Z8</td>\n",
       "      <td>33</td>\n",
       "      <td>2023-05-28</td>\n",
       "      <td>100.0</td>\n",
       "    </tr>\n",
       "    <tr>\n",
       "      <th>22356007</th>\n",
       "      <td>Z9332805232200</td>\n",
       "      <td>Z9</td>\n",
       "      <td>33</td>\n",
       "      <td>2023-05-28</td>\n",
       "      <td>92.0</td>\n",
       "    </tr>\n",
       "    <tr>\n",
       "      <th>22356008</th>\n",
       "      <td>ZB332805232200</td>\n",
       "      <td>ZB</td>\n",
       "      <td>33</td>\n",
       "      <td>2023-05-28</td>\n",
       "      <td>85.0</td>\n",
       "    </tr>\n",
       "    <tr>\n",
       "      <th>22356009</th>\n",
       "      <td>ZC332805232200</td>\n",
       "      <td>ZC</td>\n",
       "      <td>33</td>\n",
       "      <td>2023-05-28</td>\n",
       "      <td>87.0</td>\n",
       "    </tr>\n",
       "    <tr>\n",
       "      <th>22356010</th>\n",
       "      <td>ZD332805232200</td>\n",
       "      <td>ZD</td>\n",
       "      <td>33</td>\n",
       "      <td>2023-05-28</td>\n",
       "      <td>99.0</td>\n",
       "    </tr>\n",
       "  </tbody>\n",
       "</table>\n",
       "<p>22356011 rows × 5 columns</p>\n",
       "</div>"
      ],
      "text/plain": [
       "                      id codi_estacio  codi_variable data_lectura  \\\n",
       "0         CA330101090000           CA             33   2009-01-01   \n",
       "1         CC330101090000           CC             33   2009-01-01   \n",
       "2         CD330101090000           CD             33   2009-01-01   \n",
       "3         CE330101090000           CE             33   2009-01-01   \n",
       "4         CG330101090000           CG             33   2009-01-01   \n",
       "...                  ...          ...            ...          ...   \n",
       "22356006  Z8332805232200           Z8             33   2023-05-28   \n",
       "22356007  Z9332805232200           Z9             33   2023-05-28   \n",
       "22356008  ZB332805232200           ZB             33   2023-05-28   \n",
       "22356009  ZC332805232200           ZC             33   2023-05-28   \n",
       "22356010  ZD332805232200           ZD             33   2023-05-28   \n",
       "\n",
       "          valor_lectura  \n",
       "0                  85.0  \n",
       "1                  94.0  \n",
       "2                  93.0  \n",
       "3                  88.0  \n",
       "4                  50.0  \n",
       "...                 ...  \n",
       "22356006          100.0  \n",
       "22356007           92.0  \n",
       "22356008           85.0  \n",
       "22356009           87.0  \n",
       "22356010           99.0  \n",
       "\n",
       "[22356011 rows x 5 columns]"
      ]
     },
     "execution_count": 108,
     "metadata": {},
     "output_type": "execute_result"
    }
   ],
   "source": [
    "df_mesures"
   ]
  },
  {
   "cell_type": "code",
   "execution_count": 109,
   "metadata": {},
   "outputs": [],
   "source": [
    "df_mean_por_fecha['data_lectura'] = pd.to_datetime(df_mean_por_fecha['data_lectura'])\n",
    "df_mean_por_fecha['any'] = df_mean_por_fecha['data_lectura'].dt.year\n",
    "\n",
    "# Calcular la media de valor_lectura por año\n",
    "df_media_por_año = df_mean_por_fecha.groupby('any')['valor_lectura'].mean()"
   ]
  },
  {
   "cell_type": "code",
   "execution_count": 110,
   "metadata": {},
   "outputs": [],
   "source": [
    "df_media_por_año = df_media_por_año.reset_index()\n",
    "df_media_por_año = df_media_por_año.loc[df_media_por_año['any'] != 2023]"
   ]
  },
  {
   "cell_type": "code",
   "execution_count": 114,
   "metadata": {},
   "outputs": [
    {
     "data": {
      "text/html": [
       "<div>\n",
       "<style scoped>\n",
       "    .dataframe tbody tr th:only-of-type {\n",
       "        vertical-align: middle;\n",
       "    }\n",
       "\n",
       "    .dataframe tbody tr th {\n",
       "        vertical-align: top;\n",
       "    }\n",
       "\n",
       "    .dataframe thead th {\n",
       "        text-align: right;\n",
       "    }\n",
       "</style>\n",
       "<table border=\"1\" class=\"dataframe\">\n",
       "  <thead>\n",
       "    <tr style=\"text-align: right;\">\n",
       "      <th></th>\n",
       "      <th>any</th>\n",
       "      <th>valor_lectura</th>\n",
       "    </tr>\n",
       "  </thead>\n",
       "  <tbody>\n",
       "    <tr>\n",
       "      <th>0</th>\n",
       "      <td>2009</td>\n",
       "      <td>67.958191</td>\n",
       "    </tr>\n",
       "    <tr>\n",
       "      <th>1</th>\n",
       "      <td>2010</td>\n",
       "      <td>69.076156</td>\n",
       "    </tr>\n",
       "    <tr>\n",
       "      <th>2</th>\n",
       "      <td>2011</td>\n",
       "      <td>70.112671</td>\n",
       "    </tr>\n",
       "    <tr>\n",
       "      <th>3</th>\n",
       "      <td>2012</td>\n",
       "      <td>65.940156</td>\n",
       "    </tr>\n",
       "    <tr>\n",
       "      <th>4</th>\n",
       "      <td>2013</td>\n",
       "      <td>68.756008</td>\n",
       "    </tr>\n",
       "    <tr>\n",
       "      <th>5</th>\n",
       "      <td>2014</td>\n",
       "      <td>71.285952</td>\n",
       "    </tr>\n",
       "    <tr>\n",
       "      <th>6</th>\n",
       "      <td>2015</td>\n",
       "      <td>68.462572</td>\n",
       "    </tr>\n",
       "    <tr>\n",
       "      <th>7</th>\n",
       "      <td>2016</td>\n",
       "      <td>69.658529</td>\n",
       "    </tr>\n",
       "    <tr>\n",
       "      <th>8</th>\n",
       "      <td>2017</td>\n",
       "      <td>67.960913</td>\n",
       "    </tr>\n",
       "    <tr>\n",
       "      <th>9</th>\n",
       "      <td>2018</td>\n",
       "      <td>73.272770</td>\n",
       "    </tr>\n",
       "    <tr>\n",
       "      <th>10</th>\n",
       "      <td>2019</td>\n",
       "      <td>67.931419</td>\n",
       "    </tr>\n",
       "    <tr>\n",
       "      <th>11</th>\n",
       "      <td>2020</td>\n",
       "      <td>73.667367</td>\n",
       "    </tr>\n",
       "    <tr>\n",
       "      <th>12</th>\n",
       "      <td>2021</td>\n",
       "      <td>72.608023</td>\n",
       "    </tr>\n",
       "    <tr>\n",
       "      <th>13</th>\n",
       "      <td>2022</td>\n",
       "      <td>69.430873</td>\n",
       "    </tr>\n",
       "  </tbody>\n",
       "</table>\n",
       "</div>"
      ],
      "text/plain": [
       "     any  valor_lectura\n",
       "0   2009      67.958191\n",
       "1   2010      69.076156\n",
       "2   2011      70.112671\n",
       "3   2012      65.940156\n",
       "4   2013      68.756008\n",
       "5   2014      71.285952\n",
       "6   2015      68.462572\n",
       "7   2016      69.658529\n",
       "8   2017      67.960913\n",
       "9   2018      73.272770\n",
       "10  2019      67.931419\n",
       "11  2020      73.667367\n",
       "12  2021      72.608023\n",
       "13  2022      69.430873"
      ]
     },
     "execution_count": 114,
     "metadata": {},
     "output_type": "execute_result"
    }
   ],
   "source": [
    "df_media_por_año"
   ]
  },
  {
   "cell_type": "code",
   "execution_count": 111,
   "metadata": {},
   "outputs": [],
   "source": [
    "df_json = df_media_por_año.to_json(orient='records')"
   ]
  },
  {
   "cell_type": "code",
   "execution_count": 112,
   "metadata": {},
   "outputs": [
    {
     "data": {
      "text/plain": [
       "'[{\"any\":2009,\"valor_lectura\":67.9581908282},{\"any\":2010,\"valor_lectura\":69.0761562028},{\"any\":2011,\"valor_lectura\":70.1126713499},{\"any\":2012,\"valor_lectura\":65.9401557615},{\"any\":2013,\"valor_lectura\":68.7560084141},{\"any\":2014,\"valor_lectura\":71.2859522328},{\"any\":2015,\"valor_lectura\":68.4625722514},{\"any\":2016,\"valor_lectura\":69.658529072},{\"any\":2017,\"valor_lectura\":67.9609134338},{\"any\":2018,\"valor_lectura\":73.2727696005},{\"any\":2019,\"valor_lectura\":67.9314186677},{\"any\":2020,\"valor_lectura\":73.6673674743},{\"any\":2021,\"valor_lectura\":72.6080233406},{\"any\":2022,\"valor_lectura\":69.4308728007}]'"
      ]
     },
     "execution_count": 112,
     "metadata": {},
     "output_type": "execute_result"
    }
   ],
   "source": [
    "df_json"
   ]
  },
  {
   "cell_type": "code",
   "execution_count": 113,
   "metadata": {},
   "outputs": [],
   "source": [
    "nombre_archivo = 'datos_hume.json'\n",
    "\n",
    "# Guardar el JSON en un archivo\n",
    "with open(nombre_archivo, 'w') as archivo:\n",
    "    archivo.write(df_json)"
   ]
  },
  {
   "cell_type": "code",
   "execution_count": null,
   "metadata": {},
   "outputs": [],
   "source": []
  }
 ],
 "metadata": {
  "kernelspec": {
   "display_name": "Python 3",
   "language": "python",
   "name": "python3"
  },
  "language_info": {
   "codemirror_mode": {
    "name": "ipython",
    "version": 3
   },
   "file_extension": ".py",
   "mimetype": "text/x-python",
   "name": "python",
   "nbconvert_exporter": "python",
   "pygments_lexer": "ipython3",
   "version": "3.11.4"
  },
  "orig_nbformat": 4
 },
 "nbformat": 4,
 "nbformat_minor": 2
}

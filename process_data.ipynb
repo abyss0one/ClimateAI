{
 "cells": [
  {
   "cell_type": "code",
   "execution_count": 30,
   "metadata": {},
   "outputs": [],
   "source": [
    "import pandas as pd"
   ]
  },
  {
   "cell_type": "markdown",
   "metadata": {},
   "source": [
    "# READ DATASETS"
   ]
  },
  {
   "cell_type": "code",
   "execution_count": 31,
   "metadata": {},
   "outputs": [],
   "source": [
    "folder = \"./datasets/\"\n",
    "output_folder = \"./datasets_models/\""
   ]
  },
  {
   "cell_type": "markdown",
   "metadata": {},
   "source": [
    "### STATIONS DATASET\n"
   ]
  },
  {
   "cell_type": "code",
   "execution_count": 32,
   "metadata": {},
   "outputs": [],
   "source": [
    "df_comarcas = pd.read_csv(folder + \"t15902.csv\", sep=\";\", header=0)"
   ]
  },
  {
   "cell_type": "code",
   "execution_count": 33,
   "metadata": {},
   "outputs": [],
   "source": [
    "df_stations = pd.read_csv(folder + \"DB_estaciones.txt\", sep=\";\", header=0)"
   ]
  },
  {
   "cell_type": "code",
   "execution_count": 34,
   "metadata": {},
   "outputs": [],
   "source": [
    "\n",
    "df_mesures = pd.read_csv(folder + \"datos_temp.csv\", header=0).drop(['Unnamed: 0'], axis=1)"
   ]
  },
  {
   "cell_type": "code",
   "execution_count": 35,
   "metadata": {},
   "outputs": [
    {
     "data": {
      "text/plain": [
       "array(['Alt Camp', 'Alt Empordà', 'Alt Penedès', 'Alt Urgell',\n",
       "       'Alta Ribagorça', 'Anoia', 'Bages', 'Baix Camp', 'Baix Ebre',\n",
       "       'Baix Empordà', 'Baix Llobregat', 'Baix Penedès', 'Barcelonès',\n",
       "       'Berguedà', 'Cerdanya', 'Conca de Barberà', 'Garraf', 'Garrigues',\n",
       "       'Garrotxa', 'Gironès', 'Maresme', 'Montsià', 'Noguera', 'Osona',\n",
       "       'Pallars Jussà', 'Pallars Sobirà', \"Pla d'Urgell\",\n",
       "       \"Pla de l'Estany\", 'Priorat', \"Ribera d'Ebre\", 'Ripollès',\n",
       "       'Segarra', 'Segrià', 'Selva', 'Solsonès', 'Tarragonès',\n",
       "       'Terra Alta', 'Urgell', \"Val d'Aran\", 'Vallès Occidental',\n",
       "       'Vallès Oriental'], dtype=object)"
      ]
     },
     "execution_count": 35,
     "metadata": {},
     "output_type": "execute_result"
    }
   ],
   "source": [
    "df_stations.comarca.unique()"
   ]
  },
  {
   "cell_type": "code",
   "execution_count": 36,
   "metadata": {},
   "outputs": [
    {
     "data": {
      "text/plain": [
       "array(['Alt Camp', 'Alt Empordà', 'Alt Penedès', 'Alt Urgell',\n",
       "       'Alta Ribagorça', 'Anoia', 'Aran', 'Bages', 'Baix Camp',\n",
       "       'Baix Ebre', 'Baix Empordà', 'Baix Llobregat', 'Baix Penedès',\n",
       "       'Barcelonès', 'Berguedà', 'Cerdanya', 'Conca de Barberà', 'Garraf',\n",
       "       'Garrigues', 'Garrotxa', 'Gironès', 'Maresme', 'Moianès',\n",
       "       'Montsià', 'Noguera', 'Osona', 'Pallars Jussà', 'Pallars Sobirà',\n",
       "       \"Pla d'Urgell\", \"Pla de l'Estany\", 'Priorat', \"Ribera d'Ebre\",\n",
       "       'Ripollès', 'Segarra', 'Segrià', 'Selva', 'Solsonès', 'Tarragonès',\n",
       "       'Terra Alta', 'Urgell', 'Vallès Occidental', 'Vallès Oriental',\n",
       "       'Cataluña'], dtype=object)"
      ]
     },
     "execution_count": 36,
     "metadata": {},
     "output_type": "execute_result"
    }
   ],
   "source": [
    "df_comarcas.Comarca.unique()"
   ]
  },
  {
   "cell_type": "markdown",
   "metadata": {},
   "source": [
    "# PROCESS DATA"
   ]
  },
  {
   "cell_type": "code",
   "execution_count": 37,
   "metadata": {},
   "outputs": [],
   "source": [
    "codiE_por_comarca = {}\n",
    "for comarca, group in df_stations.groupby('comarca'):\n",
    "    codiE_por_comarca[comarca] = list(group['codiE'].unique())"
   ]
  },
  {
   "cell_type": "code",
   "execution_count": 38,
   "metadata": {},
   "outputs": [],
   "source": [
    "comarcas_bcn = ['Vallès Oriental', 'Alt Penedès', 'Baix Llobregat', 'Barcelonès', 'Garraf', 'Maresme', 'Vallès Occidental']\n",
    "codiE_comarca = [codiE_por_comarca[i] for i in comarcas_bcn]"
   ]
  },
  {
   "cell_type": "code",
   "execution_count": 39,
   "metadata": {},
   "outputs": [],
   "source": [
    "data_comarca = []\n",
    "for i in comarcas_bcn:\n",
    "    df_filtrado = df_mesures[df_mesures['codi_estacio'].isin(codiE_por_comarca[i])]\n",
    "    data_comarca.append(df_filtrado.reset_index(drop=True))"
   ]
  },
  {
   "cell_type": "code",
   "execution_count": 40,
   "metadata": {},
   "outputs": [],
   "source": [
    "for comarca in data_comarca:\n",
    "    comarca.data_lectura = comarca.data_lectura.str.split('T').str[0]"
   ]
  },
  {
   "cell_type": "code",
   "execution_count": 41,
   "metadata": {},
   "outputs": [],
   "source": [
    "media_por_dia_comarca = []\n",
    "for comarca in data_comarca:\n",
    "    comarca['data_lectura'] = pd.to_datetime(comarca['data_lectura'])\n",
    "    media_por_dia_comarca.append(comarca.groupby([comarca['data_lectura'].dt.date, 'codi_variable'])['valor_lectura'].mean().reset_index())"
   ]
  },
  {
   "cell_type": "code",
   "execution_count": 42,
   "metadata": {},
   "outputs": [],
   "source": [
    "nuevo_orden = [\"comarca\", \"codi_variable\", \"data_lectura\", \"valor_lectura\"]\n",
    "for i in range(len(media_por_dia_comarca)):\n",
    "    media_por_dia_comarca[i][\"comarca\"] = comarcas_bcn[i]\n",
    "    media_por_dia_comarca[i] = media_por_dia_comarca[i][nuevo_orden].reset_index(drop=True)"
   ]
  },
  {
   "cell_type": "code",
   "execution_count": 43,
   "metadata": {},
   "outputs": [],
   "source": [
    "df_concatenado = pd.concat(media_por_dia_comarca).reset_index(drop=True)\n",
    "df_concatenado.to_csv(output_folder + \"mean_temp_x_day.csv\", index=False)"
   ]
  },
  {
   "cell_type": "code",
   "execution_count": 44,
   "metadata": {},
   "outputs": [
    {
     "data": {
      "text/html": [
       "<div>\n",
       "<style scoped>\n",
       "    .dataframe tbody tr th:only-of-type {\n",
       "        vertical-align: middle;\n",
       "    }\n",
       "\n",
       "    .dataframe tbody tr th {\n",
       "        vertical-align: top;\n",
       "    }\n",
       "\n",
       "    .dataframe thead th {\n",
       "        text-align: right;\n",
       "    }\n",
       "</style>\n",
       "<table border=\"1\" class=\"dataframe\">\n",
       "  <thead>\n",
       "    <tr style=\"text-align: right;\">\n",
       "      <th></th>\n",
       "      <th>comarca</th>\n",
       "      <th>codi_variable</th>\n",
       "      <th>data_lectura</th>\n",
       "      <th>valor_lectura</th>\n",
       "    </tr>\n",
       "  </thead>\n",
       "  <tbody>\n",
       "    <tr>\n",
       "      <th>0</th>\n",
       "      <td>Vallès Oriental</td>\n",
       "      <td>32</td>\n",
       "      <td>2009-01-01</td>\n",
       "      <td>8.059722</td>\n",
       "    </tr>\n",
       "    <tr>\n",
       "      <th>1</th>\n",
       "      <td>Vallès Oriental</td>\n",
       "      <td>32</td>\n",
       "      <td>2009-01-02</td>\n",
       "      <td>7.416667</td>\n",
       "    </tr>\n",
       "    <tr>\n",
       "      <th>2</th>\n",
       "      <td>Vallès Oriental</td>\n",
       "      <td>32</td>\n",
       "      <td>2009-01-03</td>\n",
       "      <td>5.665278</td>\n",
       "    </tr>\n",
       "    <tr>\n",
       "      <th>3</th>\n",
       "      <td>Vallès Oriental</td>\n",
       "      <td>32</td>\n",
       "      <td>2009-01-04</td>\n",
       "      <td>4.345833</td>\n",
       "    </tr>\n",
       "    <tr>\n",
       "      <th>4</th>\n",
       "      <td>Vallès Oriental</td>\n",
       "      <td>32</td>\n",
       "      <td>2009-01-05</td>\n",
       "      <td>3.138824</td>\n",
       "    </tr>\n",
       "    <tr>\n",
       "      <th>...</th>\n",
       "      <td>...</td>\n",
       "      <td>...</td>\n",
       "      <td>...</td>\n",
       "      <td>...</td>\n",
       "    </tr>\n",
       "    <tr>\n",
       "      <th>37095</th>\n",
       "      <td>Vallès Occidental</td>\n",
       "      <td>32</td>\n",
       "      <td>2023-07-05</td>\n",
       "      <td>21.832143</td>\n",
       "    </tr>\n",
       "    <tr>\n",
       "      <th>37096</th>\n",
       "      <td>Vallès Occidental</td>\n",
       "      <td>32</td>\n",
       "      <td>2023-07-06</td>\n",
       "      <td>22.760119</td>\n",
       "    </tr>\n",
       "    <tr>\n",
       "      <th>37097</th>\n",
       "      <td>Vallès Occidental</td>\n",
       "      <td>32</td>\n",
       "      <td>2023-07-07</td>\n",
       "      <td>23.723214</td>\n",
       "    </tr>\n",
       "    <tr>\n",
       "      <th>37098</th>\n",
       "      <td>Vallès Occidental</td>\n",
       "      <td>32</td>\n",
       "      <td>2023-07-08</td>\n",
       "      <td>25.869048</td>\n",
       "    </tr>\n",
       "    <tr>\n",
       "      <th>37099</th>\n",
       "      <td>Vallès Occidental</td>\n",
       "      <td>32</td>\n",
       "      <td>2023-07-09</td>\n",
       "      <td>25.338776</td>\n",
       "    </tr>\n",
       "  </tbody>\n",
       "</table>\n",
       "<p>37100 rows × 4 columns</p>\n",
       "</div>"
      ],
      "text/plain": [
       "                 comarca  codi_variable data_lectura  valor_lectura\n",
       "0        Vallès Oriental             32   2009-01-01       8.059722\n",
       "1        Vallès Oriental             32   2009-01-02       7.416667\n",
       "2        Vallès Oriental             32   2009-01-03       5.665278\n",
       "3        Vallès Oriental             32   2009-01-04       4.345833\n",
       "4        Vallès Oriental             32   2009-01-05       3.138824\n",
       "...                  ...            ...          ...            ...\n",
       "37095  Vallès Occidental             32   2023-07-05      21.832143\n",
       "37096  Vallès Occidental             32   2023-07-06      22.760119\n",
       "37097  Vallès Occidental             32   2023-07-07      23.723214\n",
       "37098  Vallès Occidental             32   2023-07-08      25.869048\n",
       "37099  Vallès Occidental             32   2023-07-09      25.338776\n",
       "\n",
       "[37100 rows x 4 columns]"
      ]
     },
     "execution_count": 44,
     "metadata": {},
     "output_type": "execute_result"
    }
   ],
   "source": [
    "df_concatenado"
   ]
  },
  {
   "cell_type": "code",
   "execution_count": null,
   "metadata": {},
   "outputs": [],
   "source": []
  }
 ],
 "metadata": {
  "kernelspec": {
   "display_name": "Python 3",
   "language": "python",
   "name": "python3"
  },
  "language_info": {
   "codemirror_mode": {
    "name": "ipython",
    "version": 3
   },
   "file_extension": ".py",
   "mimetype": "text/x-python",
   "name": "python",
   "nbconvert_exporter": "python",
   "pygments_lexer": "ipython3",
   "version": "3.11.4"
  },
  "orig_nbformat": 4
 },
 "nbformat": 4,
 "nbformat_minor": 2
}

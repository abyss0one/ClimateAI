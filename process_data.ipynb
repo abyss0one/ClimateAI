{
 "cells": [
  {
   "cell_type": "code",
   "execution_count": 1,
   "metadata": {},
   "outputs": [],
   "source": [
    "import pandas as pd"
   ]
  },
  {
   "cell_type": "markdown",
   "metadata": {},
   "source": [
    "# READ DATASETS"
   ]
  },
  {
   "cell_type": "code",
   "execution_count": 15,
   "metadata": {},
   "outputs": [],
   "source": [
    "folder = \"./datasets/\"\n",
    "output_folder = \"./datasets_models/\""
   ]
  },
  {
   "cell_type": "markdown",
   "metadata": {},
   "source": [
    "### STATIONS DATASET\n"
   ]
  },
  {
   "cell_type": "code",
   "execution_count": 3,
   "metadata": {},
   "outputs": [],
   "source": [
    "df_stations = pd.read_csv(folder + \"DB_estaciones.txt\", sep=\";\", header=0)"
   ]
  },
  {
   "cell_type": "code",
   "execution_count": 4,
   "metadata": {},
   "outputs": [],
   "source": [
    "\n",
    "df_mesures = pd.read_csv(folder + \"datos_precip.csv\", header=0).drop(['Unnamed: 0'], axis=1)"
   ]
  },
  {
   "cell_type": "code",
   "execution_count": 5,
   "metadata": {},
   "outputs": [
    {
     "data": {
      "text/html": [
       "<div>\n",
       "<style scoped>\n",
       "    .dataframe tbody tr th:only-of-type {\n",
       "        vertical-align: middle;\n",
       "    }\n",
       "\n",
       "    .dataframe tbody tr th {\n",
       "        vertical-align: top;\n",
       "    }\n",
       "\n",
       "    .dataframe thead th {\n",
       "        text-align: right;\n",
       "    }\n",
       "</style>\n",
       "<table border=\"1\" class=\"dataframe\">\n",
       "  <thead>\n",
       "    <tr style=\"text-align: right;\">\n",
       "      <th></th>\n",
       "      <th>id</th>\n",
       "      <th>codi_estacio</th>\n",
       "      <th>codi_variable</th>\n",
       "      <th>data_lectura</th>\n",
       "      <th>valor_lectura</th>\n",
       "    </tr>\n",
       "  </thead>\n",
       "  <tbody>\n",
       "    <tr>\n",
       "      <th>0</th>\n",
       "      <td>CA350101090000</td>\n",
       "      <td>CA</td>\n",
       "      <td>35</td>\n",
       "      <td>2009-01-01T00:00:00.000</td>\n",
       "      <td>0.0</td>\n",
       "    </tr>\n",
       "    <tr>\n",
       "      <th>1</th>\n",
       "      <td>CC350101090000</td>\n",
       "      <td>CC</td>\n",
       "      <td>35</td>\n",
       "      <td>2009-01-01T00:00:00.000</td>\n",
       "      <td>0.0</td>\n",
       "    </tr>\n",
       "    <tr>\n",
       "      <th>2</th>\n",
       "      <td>CD350101090000</td>\n",
       "      <td>CD</td>\n",
       "      <td>35</td>\n",
       "      <td>2009-01-01T00:00:00.000</td>\n",
       "      <td>0.0</td>\n",
       "    </tr>\n",
       "    <tr>\n",
       "      <th>3</th>\n",
       "      <td>CE350101090000</td>\n",
       "      <td>CE</td>\n",
       "      <td>35</td>\n",
       "      <td>2009-01-01T00:00:00.000</td>\n",
       "      <td>0.0</td>\n",
       "    </tr>\n",
       "    <tr>\n",
       "      <th>4</th>\n",
       "      <td>CG350101090000</td>\n",
       "      <td>CG</td>\n",
       "      <td>35</td>\n",
       "      <td>2009-01-01T00:00:00.000</td>\n",
       "      <td>0.0</td>\n",
       "    </tr>\n",
       "    <tr>\n",
       "      <th>...</th>\n",
       "      <td>...</td>\n",
       "      <td>...</td>\n",
       "      <td>...</td>\n",
       "      <td>...</td>\n",
       "      <td>...</td>\n",
       "    </tr>\n",
       "    <tr>\n",
       "      <th>22437293</th>\n",
       "      <td>Z7352905231200</td>\n",
       "      <td>Z7</td>\n",
       "      <td>35</td>\n",
       "      <td>2023-05-29T12:00:00.000</td>\n",
       "      <td>0.0</td>\n",
       "    </tr>\n",
       "    <tr>\n",
       "      <th>22437294</th>\n",
       "      <td>Z8352905231200</td>\n",
       "      <td>Z8</td>\n",
       "      <td>35</td>\n",
       "      <td>2023-05-29T12:00:00.000</td>\n",
       "      <td>0.7</td>\n",
       "    </tr>\n",
       "    <tr>\n",
       "      <th>22437295</th>\n",
       "      <td>Z9352905231200</td>\n",
       "      <td>Z9</td>\n",
       "      <td>35</td>\n",
       "      <td>2023-05-29T12:00:00.000</td>\n",
       "      <td>0.0</td>\n",
       "    </tr>\n",
       "    <tr>\n",
       "      <th>22437296</th>\n",
       "      <td>ZB352905231200</td>\n",
       "      <td>ZB</td>\n",
       "      <td>35</td>\n",
       "      <td>2023-05-29T12:00:00.000</td>\n",
       "      <td>0.0</td>\n",
       "    </tr>\n",
       "    <tr>\n",
       "      <th>22437297</th>\n",
       "      <td>ZC352905231200</td>\n",
       "      <td>ZC</td>\n",
       "      <td>35</td>\n",
       "      <td>2023-05-29T12:00:00.000</td>\n",
       "      <td>2.6</td>\n",
       "    </tr>\n",
       "  </tbody>\n",
       "</table>\n",
       "<p>22437298 rows × 5 columns</p>\n",
       "</div>"
      ],
      "text/plain": [
       "                      id codi_estacio  codi_variable             data_lectura  \\\n",
       "0         CA350101090000           CA             35  2009-01-01T00:00:00.000   \n",
       "1         CC350101090000           CC             35  2009-01-01T00:00:00.000   \n",
       "2         CD350101090000           CD             35  2009-01-01T00:00:00.000   \n",
       "3         CE350101090000           CE             35  2009-01-01T00:00:00.000   \n",
       "4         CG350101090000           CG             35  2009-01-01T00:00:00.000   \n",
       "...                  ...          ...            ...                      ...   \n",
       "22437293  Z7352905231200           Z7             35  2023-05-29T12:00:00.000   \n",
       "22437294  Z8352905231200           Z8             35  2023-05-29T12:00:00.000   \n",
       "22437295  Z9352905231200           Z9             35  2023-05-29T12:00:00.000   \n",
       "22437296  ZB352905231200           ZB             35  2023-05-29T12:00:00.000   \n",
       "22437297  ZC352905231200           ZC             35  2023-05-29T12:00:00.000   \n",
       "\n",
       "          valor_lectura  \n",
       "0                   0.0  \n",
       "1                   0.0  \n",
       "2                   0.0  \n",
       "3                   0.0  \n",
       "4                   0.0  \n",
       "...                 ...  \n",
       "22437293            0.0  \n",
       "22437294            0.7  \n",
       "22437295            0.0  \n",
       "22437296            0.0  \n",
       "22437297            2.6  \n",
       "\n",
       "[22437298 rows x 5 columns]"
      ]
     },
     "execution_count": 5,
     "metadata": {},
     "output_type": "execute_result"
    }
   ],
   "source": [
    "df_mesures"
   ]
  },
  {
   "cell_type": "markdown",
   "metadata": {},
   "source": [
    "# PROCESS DATA"
   ]
  },
  {
   "cell_type": "code",
   "execution_count": 7,
   "metadata": {},
   "outputs": [],
   "source": [
    "codiE_por_comarca = {}\n",
    "for comarca, group in df_stations.groupby('comarca'):\n",
    "    codiE_por_comarca[comarca] = list(group['codiE'].unique())"
   ]
  },
  {
   "cell_type": "code",
   "execution_count": 8,
   "metadata": {},
   "outputs": [],
   "source": [
    "comarcas_bcn = ['Vallès Oriental', 'Alt Penedès', 'Baix Llobregat', 'Barcelonès', 'Garraf', 'Maresme', 'Vallès Occidental']\n",
    "codiE_comarca = [codiE_por_comarca[i] for i in comarcas_bcn]"
   ]
  },
  {
   "cell_type": "code",
   "execution_count": 9,
   "metadata": {},
   "outputs": [],
   "source": [
    "data_comarca = []\n",
    "for i in comarcas_bcn:\n",
    "    df_filtrado = df_mesures[df_mesures['codi_estacio'].isin(codiE_por_comarca[i])]\n",
    "    data_comarca.append(df_filtrado.reset_index(drop=True))"
   ]
  },
  {
   "cell_type": "code",
   "execution_count": 10,
   "metadata": {},
   "outputs": [],
   "source": [
    "for comarca in data_comarca:\n",
    "    comarca.data_lectura = comarca.data_lectura.str.split('T').str[0]"
   ]
  },
  {
   "cell_type": "code",
   "execution_count": 11,
   "metadata": {},
   "outputs": [],
   "source": [
    "media_por_dia_comarca = []\n",
    "for comarca in data_comarca:\n",
    "    comarca['data_lectura'] = pd.to_datetime(comarca['data_lectura'])\n",
    "    media_por_dia_comarca.append(comarca.groupby([comarca['data_lectura'].dt.date, 'codi_variable'])['valor_lectura'].mean().reset_index())"
   ]
  },
  {
   "cell_type": "code",
   "execution_count": 12,
   "metadata": {},
   "outputs": [],
   "source": [
    "nuevo_orden = [\"comarca\", \"codi_variable\", \"data_lectura\", \"valor_lectura\"]\n",
    "for i in range(len(media_por_dia_comarca)):\n",
    "    media_por_dia_comarca[i][\"comarca\"] = comarcas_bcn[i]\n",
    "    media_por_dia_comarca[i] = media_por_dia_comarca[i][nuevo_orden].reset_index(drop=True)"
   ]
  },
  {
   "cell_type": "code",
   "execution_count": 16,
   "metadata": {},
   "outputs": [],
   "source": [
    "df_concatenado = pd.concat(media_por_dia_comarca).reset_index(drop=True)\n",
    "df_concatenado.to_csv(output_folder + \"mean_precip_x_mes.csv\", index=False)"
   ]
  },
  {
   "cell_type": "code",
   "execution_count": 14,
   "metadata": {},
   "outputs": [
    {
     "data": {
      "text/html": [
       "<div>\n",
       "<style scoped>\n",
       "    .dataframe tbody tr th:only-of-type {\n",
       "        vertical-align: middle;\n",
       "    }\n",
       "\n",
       "    .dataframe tbody tr th {\n",
       "        vertical-align: top;\n",
       "    }\n",
       "\n",
       "    .dataframe thead th {\n",
       "        text-align: right;\n",
       "    }\n",
       "</style>\n",
       "<table border=\"1\" class=\"dataframe\">\n",
       "  <thead>\n",
       "    <tr style=\"text-align: right;\">\n",
       "      <th></th>\n",
       "      <th>comarca</th>\n",
       "      <th>codi_variable</th>\n",
       "      <th>data_lectura</th>\n",
       "      <th>valor_lectura</th>\n",
       "    </tr>\n",
       "  </thead>\n",
       "  <tbody>\n",
       "    <tr>\n",
       "      <th>0</th>\n",
       "      <td>Vallès Oriental</td>\n",
       "      <td>35</td>\n",
       "      <td>2009-01-01</td>\n",
       "      <td>0.000000</td>\n",
       "    </tr>\n",
       "    <tr>\n",
       "      <th>1</th>\n",
       "      <td>Vallès Oriental</td>\n",
       "      <td>35</td>\n",
       "      <td>2009-01-02</td>\n",
       "      <td>0.008333</td>\n",
       "    </tr>\n",
       "    <tr>\n",
       "      <th>2</th>\n",
       "      <td>Vallès Oriental</td>\n",
       "      <td>35</td>\n",
       "      <td>2009-01-03</td>\n",
       "      <td>0.000000</td>\n",
       "    </tr>\n",
       "    <tr>\n",
       "      <th>3</th>\n",
       "      <td>Vallès Oriental</td>\n",
       "      <td>35</td>\n",
       "      <td>2009-01-04</td>\n",
       "      <td>0.002083</td>\n",
       "    </tr>\n",
       "    <tr>\n",
       "      <th>4</th>\n",
       "      <td>Vallès Oriental</td>\n",
       "      <td>35</td>\n",
       "      <td>2009-01-05</td>\n",
       "      <td>0.002083</td>\n",
       "    </tr>\n",
       "    <tr>\n",
       "      <th>...</th>\n",
       "      <td>...</td>\n",
       "      <td>...</td>\n",
       "      <td>...</td>\n",
       "      <td>...</td>\n",
       "    </tr>\n",
       "    <tr>\n",
       "      <th>37095</th>\n",
       "      <td>Vallès Occidental</td>\n",
       "      <td>35</td>\n",
       "      <td>2023-07-05</td>\n",
       "      <td>0.007143</td>\n",
       "    </tr>\n",
       "    <tr>\n",
       "      <th>37096</th>\n",
       "      <td>Vallès Occidental</td>\n",
       "      <td>35</td>\n",
       "      <td>2023-07-06</td>\n",
       "      <td>0.011905</td>\n",
       "    </tr>\n",
       "    <tr>\n",
       "      <th>37097</th>\n",
       "      <td>Vallès Occidental</td>\n",
       "      <td>35</td>\n",
       "      <td>2023-07-07</td>\n",
       "      <td>0.000000</td>\n",
       "    </tr>\n",
       "    <tr>\n",
       "      <th>37098</th>\n",
       "      <td>Vallès Occidental</td>\n",
       "      <td>35</td>\n",
       "      <td>2023-07-08</td>\n",
       "      <td>0.000000</td>\n",
       "    </tr>\n",
       "    <tr>\n",
       "      <th>37099</th>\n",
       "      <td>Vallès Occidental</td>\n",
       "      <td>35</td>\n",
       "      <td>2023-07-09</td>\n",
       "      <td>0.000000</td>\n",
       "    </tr>\n",
       "  </tbody>\n",
       "</table>\n",
       "<p>37100 rows × 4 columns</p>\n",
       "</div>"
      ],
      "text/plain": [
       "                 comarca  codi_variable data_lectura  valor_lectura\n",
       "0        Vallès Oriental             35   2009-01-01       0.000000\n",
       "1        Vallès Oriental             35   2009-01-02       0.008333\n",
       "2        Vallès Oriental             35   2009-01-03       0.000000\n",
       "3        Vallès Oriental             35   2009-01-04       0.002083\n",
       "4        Vallès Oriental             35   2009-01-05       0.002083\n",
       "...                  ...            ...          ...            ...\n",
       "37095  Vallès Occidental             35   2023-07-05       0.007143\n",
       "37096  Vallès Occidental             35   2023-07-06       0.011905\n",
       "37097  Vallès Occidental             35   2023-07-07       0.000000\n",
       "37098  Vallès Occidental             35   2023-07-08       0.000000\n",
       "37099  Vallès Occidental             35   2023-07-09       0.000000\n",
       "\n",
       "[37100 rows x 4 columns]"
      ]
     },
     "execution_count": 14,
     "metadata": {},
     "output_type": "execute_result"
    }
   ],
   "source": [
    "df_concatenado"
   ]
  },
  {
   "cell_type": "code",
   "execution_count": null,
   "metadata": {},
   "outputs": [],
   "source": []
  }
 ],
 "metadata": {
  "kernelspec": {
   "display_name": "Python 3",
   "language": "python",
   "name": "python3"
  },
  "language_info": {
   "codemirror_mode": {
    "name": "ipython",
    "version": 3
   },
   "file_extension": ".py",
   "mimetype": "text/x-python",
   "name": "python",
   "nbconvert_exporter": "python",
   "pygments_lexer": "ipython3",
   "version": "3.11.4"
  },
  "orig_nbformat": 4
 },
 "nbformat": 4,
 "nbformat_minor": 2
}

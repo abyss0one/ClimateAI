{
 "cells": [
  {
   "cell_type": "code",
   "execution_count": 84,
   "metadata": {},
   "outputs": [],
   "source": [
    "import pandas as pd"
   ]
  },
  {
   "cell_type": "markdown",
   "metadata": {},
   "source": [
    "# READ DATASETS"
   ]
  },
  {
   "cell_type": "code",
   "execution_count": 86,
   "metadata": {},
   "outputs": [],
   "source": [
    "folder = \"./datasets/\"\n"
   ]
  },
  {
   "cell_type": "markdown",
   "metadata": {},
   "source": [
    "### STATIONS DATASET\n"
   ]
  },
  {
   "cell_type": "code",
   "execution_count": 104,
   "metadata": {},
   "outputs": [],
   "source": [
    "df_stations = pd.read_csv(folder + \"DB_estaciones.txt\", sep=\";\", header=0)"
   ]
  },
  {
   "cell_type": "code",
   "execution_count": 105,
   "metadata": {},
   "outputs": [],
   "source": [
    "\n",
    "df_mesures = pd.read_csv(folder + \"datos_hume.csv\", header=0).drop(['Unnamed: 0'], axis=1)"
   ]
  },
  {
   "cell_type": "code",
   "execution_count": 106,
   "metadata": {},
   "outputs": [
    {
     "data": {
      "text/html": [
       "<div>\n",
       "<style scoped>\n",
       "    .dataframe tbody tr th:only-of-type {\n",
       "        vertical-align: middle;\n",
       "    }\n",
       "\n",
       "    .dataframe tbody tr th {\n",
       "        vertical-align: top;\n",
       "    }\n",
       "\n",
       "    .dataframe thead th {\n",
       "        text-align: right;\n",
       "    }\n",
       "</style>\n",
       "<table border=\"1\" class=\"dataframe\">\n",
       "  <thead>\n",
       "    <tr style=\"text-align: right;\">\n",
       "      <th></th>\n",
       "      <th>id</th>\n",
       "      <th>codi_estacio</th>\n",
       "      <th>codi_variable</th>\n",
       "      <th>data_lectura</th>\n",
       "      <th>valor_lectura</th>\n",
       "    </tr>\n",
       "  </thead>\n",
       "  <tbody>\n",
       "    <tr>\n",
       "      <th>0</th>\n",
       "      <td>CA330101090000</td>\n",
       "      <td>CA</td>\n",
       "      <td>33</td>\n",
       "      <td>2009-01-01T00:00:00.000</td>\n",
       "      <td>85.0</td>\n",
       "    </tr>\n",
       "    <tr>\n",
       "      <th>1</th>\n",
       "      <td>CC330101090000</td>\n",
       "      <td>CC</td>\n",
       "      <td>33</td>\n",
       "      <td>2009-01-01T00:00:00.000</td>\n",
       "      <td>94.0</td>\n",
       "    </tr>\n",
       "    <tr>\n",
       "      <th>2</th>\n",
       "      <td>CD330101090000</td>\n",
       "      <td>CD</td>\n",
       "      <td>33</td>\n",
       "      <td>2009-01-01T00:00:00.000</td>\n",
       "      <td>93.0</td>\n",
       "    </tr>\n",
       "    <tr>\n",
       "      <th>3</th>\n",
       "      <td>CE330101090000</td>\n",
       "      <td>CE</td>\n",
       "      <td>33</td>\n",
       "      <td>2009-01-01T00:00:00.000</td>\n",
       "      <td>88.0</td>\n",
       "    </tr>\n",
       "    <tr>\n",
       "      <th>4</th>\n",
       "      <td>CG330101090000</td>\n",
       "      <td>CG</td>\n",
       "      <td>33</td>\n",
       "      <td>2009-01-01T00:00:00.000</td>\n",
       "      <td>50.0</td>\n",
       "    </tr>\n",
       "    <tr>\n",
       "      <th>...</th>\n",
       "      <td>...</td>\n",
       "      <td>...</td>\n",
       "      <td>...</td>\n",
       "      <td>...</td>\n",
       "      <td>...</td>\n",
       "    </tr>\n",
       "    <tr>\n",
       "      <th>22356006</th>\n",
       "      <td>Z8332805232200</td>\n",
       "      <td>Z8</td>\n",
       "      <td>33</td>\n",
       "      <td>2023-05-28T22:00:00.000</td>\n",
       "      <td>100.0</td>\n",
       "    </tr>\n",
       "    <tr>\n",
       "      <th>22356007</th>\n",
       "      <td>Z9332805232200</td>\n",
       "      <td>Z9</td>\n",
       "      <td>33</td>\n",
       "      <td>2023-05-28T22:00:00.000</td>\n",
       "      <td>92.0</td>\n",
       "    </tr>\n",
       "    <tr>\n",
       "      <th>22356008</th>\n",
       "      <td>ZB332805232200</td>\n",
       "      <td>ZB</td>\n",
       "      <td>33</td>\n",
       "      <td>2023-05-28T22:00:00.000</td>\n",
       "      <td>85.0</td>\n",
       "    </tr>\n",
       "    <tr>\n",
       "      <th>22356009</th>\n",
       "      <td>ZC332805232200</td>\n",
       "      <td>ZC</td>\n",
       "      <td>33</td>\n",
       "      <td>2023-05-28T22:00:00.000</td>\n",
       "      <td>87.0</td>\n",
       "    </tr>\n",
       "    <tr>\n",
       "      <th>22356010</th>\n",
       "      <td>ZD332805232200</td>\n",
       "      <td>ZD</td>\n",
       "      <td>33</td>\n",
       "      <td>2023-05-28T22:00:00.000</td>\n",
       "      <td>99.0</td>\n",
       "    </tr>\n",
       "  </tbody>\n",
       "</table>\n",
       "<p>22356011 rows × 5 columns</p>\n",
       "</div>"
      ],
      "text/plain": [
       "                      id codi_estacio  codi_variable             data_lectura  \\\n",
       "0         CA330101090000           CA             33  2009-01-01T00:00:00.000   \n",
       "1         CC330101090000           CC             33  2009-01-01T00:00:00.000   \n",
       "2         CD330101090000           CD             33  2009-01-01T00:00:00.000   \n",
       "3         CE330101090000           CE             33  2009-01-01T00:00:00.000   \n",
       "4         CG330101090000           CG             33  2009-01-01T00:00:00.000   \n",
       "...                  ...          ...            ...                      ...   \n",
       "22356006  Z8332805232200           Z8             33  2023-05-28T22:00:00.000   \n",
       "22356007  Z9332805232200           Z9             33  2023-05-28T22:00:00.000   \n",
       "22356008  ZB332805232200           ZB             33  2023-05-28T22:00:00.000   \n",
       "22356009  ZC332805232200           ZC             33  2023-05-28T22:00:00.000   \n",
       "22356010  ZD332805232200           ZD             33  2023-05-28T22:00:00.000   \n",
       "\n",
       "          valor_lectura  \n",
       "0                  85.0  \n",
       "1                  94.0  \n",
       "2                  93.0  \n",
       "3                  88.0  \n",
       "4                  50.0  \n",
       "...                 ...  \n",
       "22356006          100.0  \n",
       "22356007           92.0  \n",
       "22356008           85.0  \n",
       "22356009           87.0  \n",
       "22356010           99.0  \n",
       "\n",
       "[22356011 rows x 5 columns]"
      ]
     },
     "execution_count": 106,
     "metadata": {},
     "output_type": "execute_result"
    }
   ],
   "source": [
    "df_mesures"
   ]
  },
  {
   "cell_type": "markdown",
   "metadata": {},
   "source": [
    "# PROCESS DATA"
   ]
  },
  {
   "cell_type": "code",
   "execution_count": 123,
   "metadata": {},
   "outputs": [],
   "source": [
    "codiE_por_comarca = {}\n",
    "for comarca, group in df_stations.groupby('comarca'):\n",
    "    codiE_por_comarca[comarca] = list(group['codiE'].unique())"
   ]
  },
  {
   "cell_type": "code",
   "execution_count": 124,
   "metadata": {},
   "outputs": [],
   "source": [
    "comarcas_bcn = ['Vallès Oriental', 'Alt Penedès', 'Baix Llobregat', 'Barcelonès', 'Garraf', 'Maresme', 'Vallès Occidental']\n",
    "codiE_comarca = [codiE_por_comarca[i] for i in comarcas_bcn]"
   ]
  },
  {
   "cell_type": "code",
   "execution_count": 125,
   "metadata": {},
   "outputs": [],
   "source": [
    "data_comarca = []\n",
    "for i in comarcas_bcn:\n",
    "    df_filtrado = df_mesures[df_mesures['codi_estacio'].isin(codiE_por_comarca[i])]\n",
    "    data_comarca.append(df_filtrado.reset_index(drop=True))"
   ]
  },
  {
   "cell_type": "code",
   "execution_count": 126,
   "metadata": {},
   "outputs": [],
   "source": [
    "for comarca in data_comarca:\n",
    "    comarca.data_lectura = comarca.data_lectura.str.split('T').str[0]"
   ]
  },
  {
   "cell_type": "code",
   "execution_count": 127,
   "metadata": {},
   "outputs": [],
   "source": [
    "media_por_dia_comarca = []\n",
    "for comarca in data_comarca:\n",
    "    comarca['data_lectura'] = pd.to_datetime(comarca['data_lectura'])\n",
    "    media_por_dia_comarca.append(comarca.groupby([comarca['data_lectura'].dt.date, 'codi_variable'])['valor_lectura'].mean().reset_index())"
   ]
  },
  {
   "cell_type": "code",
   "execution_count": 128,
   "metadata": {},
   "outputs": [],
   "source": [
    "nuevo_orden = [\"comarca\", \"codi_variable\", \"data_lectura\", \"valor_lectura\"]\n",
    "for i in range(len(media_por_dia_comarca)):\n",
    "    media_por_dia_comarca[i][\"comarca\"] = comarcas_bcn[i]\n",
    "    media_por_dia_comarca[i] = media_por_dia_comarca[i][nuevo_orden].reset_index(drop=True)"
   ]
  },
  {
   "cell_type": "code",
   "execution_count": 129,
   "metadata": {},
   "outputs": [],
   "source": [
    "df_concatenado = pd.concat(media_por_dia_comarca).reset_index(drop=True)\n",
    "df_concatenado.to_csv(folder + \"mean_hume_x_mes.csv\")"
   ]
  },
  {
   "cell_type": "code",
   "execution_count": 130,
   "metadata": {},
   "outputs": [
    {
     "data": {
      "text/html": [
       "<div>\n",
       "<style scoped>\n",
       "    .dataframe tbody tr th:only-of-type {\n",
       "        vertical-align: middle;\n",
       "    }\n",
       "\n",
       "    .dataframe tbody tr th {\n",
       "        vertical-align: top;\n",
       "    }\n",
       "\n",
       "    .dataframe thead th {\n",
       "        text-align: right;\n",
       "    }\n",
       "</style>\n",
       "<table border=\"1\" class=\"dataframe\">\n",
       "  <thead>\n",
       "    <tr style=\"text-align: right;\">\n",
       "      <th></th>\n",
       "      <th>comarca</th>\n",
       "      <th>codi_variable</th>\n",
       "      <th>data_lectura</th>\n",
       "      <th>valor_lectura</th>\n",
       "    </tr>\n",
       "  </thead>\n",
       "  <tbody>\n",
       "    <tr>\n",
       "      <th>0</th>\n",
       "      <td>Vallès Oriental</td>\n",
       "      <td>33</td>\n",
       "      <td>2009-01-01</td>\n",
       "      <td>86.152778</td>\n",
       "    </tr>\n",
       "    <tr>\n",
       "      <th>1</th>\n",
       "      <td>Vallès Oriental</td>\n",
       "      <td>33</td>\n",
       "      <td>2009-01-02</td>\n",
       "      <td>91.291667</td>\n",
       "    </tr>\n",
       "    <tr>\n",
       "      <th>2</th>\n",
       "      <td>Vallès Oriental</td>\n",
       "      <td>33</td>\n",
       "      <td>2009-01-03</td>\n",
       "      <td>92.083333</td>\n",
       "    </tr>\n",
       "    <tr>\n",
       "      <th>3</th>\n",
       "      <td>Vallès Oriental</td>\n",
       "      <td>33</td>\n",
       "      <td>2009-01-04</td>\n",
       "      <td>81.638889</td>\n",
       "    </tr>\n",
       "    <tr>\n",
       "      <th>4</th>\n",
       "      <td>Vallès Oriental</td>\n",
       "      <td>33</td>\n",
       "      <td>2009-01-05</td>\n",
       "      <td>76.811765</td>\n",
       "    </tr>\n",
       "    <tr>\n",
       "      <th>...</th>\n",
       "      <td>...</td>\n",
       "      <td>...</td>\n",
       "      <td>...</td>\n",
       "      <td>...</td>\n",
       "    </tr>\n",
       "    <tr>\n",
       "      <th>37095</th>\n",
       "      <td>Vallès Occidental</td>\n",
       "      <td>33</td>\n",
       "      <td>2023-07-05</td>\n",
       "      <td>84.946429</td>\n",
       "    </tr>\n",
       "    <tr>\n",
       "      <th>37096</th>\n",
       "      <td>Vallès Occidental</td>\n",
       "      <td>33</td>\n",
       "      <td>2023-07-06</td>\n",
       "      <td>76.791667</td>\n",
       "    </tr>\n",
       "    <tr>\n",
       "      <th>37097</th>\n",
       "      <td>Vallès Occidental</td>\n",
       "      <td>33</td>\n",
       "      <td>2023-07-07</td>\n",
       "      <td>68.672619</td>\n",
       "    </tr>\n",
       "    <tr>\n",
       "      <th>37098</th>\n",
       "      <td>Vallès Occidental</td>\n",
       "      <td>33</td>\n",
       "      <td>2023-07-08</td>\n",
       "      <td>61.208333</td>\n",
       "    </tr>\n",
       "    <tr>\n",
       "      <th>37099</th>\n",
       "      <td>Vallès Occidental</td>\n",
       "      <td>33</td>\n",
       "      <td>2023-07-09</td>\n",
       "      <td>63.390476</td>\n",
       "    </tr>\n",
       "  </tbody>\n",
       "</table>\n",
       "<p>37100 rows × 4 columns</p>\n",
       "</div>"
      ],
      "text/plain": [
       "                 comarca  codi_variable data_lectura  valor_lectura\n",
       "0        Vallès Oriental             33   2009-01-01      86.152778\n",
       "1        Vallès Oriental             33   2009-01-02      91.291667\n",
       "2        Vallès Oriental             33   2009-01-03      92.083333\n",
       "3        Vallès Oriental             33   2009-01-04      81.638889\n",
       "4        Vallès Oriental             33   2009-01-05      76.811765\n",
       "...                  ...            ...          ...            ...\n",
       "37095  Vallès Occidental             33   2023-07-05      84.946429\n",
       "37096  Vallès Occidental             33   2023-07-06      76.791667\n",
       "37097  Vallès Occidental             33   2023-07-07      68.672619\n",
       "37098  Vallès Occidental             33   2023-07-08      61.208333\n",
       "37099  Vallès Occidental             33   2023-07-09      63.390476\n",
       "\n",
       "[37100 rows x 4 columns]"
      ]
     },
     "execution_count": 130,
     "metadata": {},
     "output_type": "execute_result"
    }
   ],
   "source": [
    "df_concatenado"
   ]
  },
  {
   "cell_type": "code",
   "execution_count": null,
   "metadata": {},
   "outputs": [],
   "source": []
  }
 ],
 "metadata": {
  "kernelspec": {
   "display_name": "Python 3",
   "language": "python",
   "name": "python3"
  },
  "language_info": {
   "codemirror_mode": {
    "name": "ipython",
    "version": 3
   },
   "file_extension": ".py",
   "mimetype": "text/x-python",
   "name": "python",
   "nbconvert_exporter": "python",
   "pygments_lexer": "ipython3",
   "version": "3.9.13"
  },
  "orig_nbformat": 4
 },
 "nbformat": 4,
 "nbformat_minor": 2
}

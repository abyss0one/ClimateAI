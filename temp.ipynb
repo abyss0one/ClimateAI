{
 "cells": [
  {
   "cell_type": "code",
   "execution_count": 63,
   "metadata": {},
   "outputs": [],
   "source": [
    "import pandas as pd\n",
    "import joblib\n",
    "import pickle\n",
    "from sklearn.preprocessing import PolynomialFeatures"
   ]
  },
  {
   "cell_type": "code",
   "execution_count": 21,
   "metadata": {},
   "outputs": [],
   "source": [
    "dicc_modelos = joblib.load('./models/all_models.pkl')\n",
    "dicc_poly_features = joblib.load('./models/all_features.pkl')"
   ]
  },
  {
   "cell_type": "code",
   "execution_count": 22,
   "metadata": {},
   "outputs": [
    {
     "name": "stderr",
     "output_type": "stream",
     "text": [
      "c:\\Users\\jairo\\AppData\\Local\\Programs\\Python\\Python311\\Lib\\site-packages\\sklearn\\base.py:439: UserWarning: X does not have valid feature names, but PolynomialFeatures was fitted with feature names\n",
      "  warnings.warn(\n"
     ]
    },
    {
     "data": {
      "text/plain": [
       "array([0.12467289])"
      ]
     },
     "execution_count": 22,
     "metadata": {},
     "output_type": "execute_result"
    }
   ],
   "source": [
    "poly_features = dicc_poly_features[\"Vallès Occidental\"]\n",
    "poly = poly_features.transform([[5.665277777777778,92.08333333333331,7.416666666666667,0.0083333333333333,91.29166666666669]]) \n",
    "dicc_modelos[\"Vallès Occidental\"].predict(poly)"
   ]
  },
  {
   "cell_type": "code",
   "execution_count": 27,
   "metadata": {},
   "outputs": [],
   "source": [
    "aux = joblib.load(\"./comarques.joblib\")"
   ]
  },
  {
   "cell_type": "code",
   "execution_count": 42,
   "metadata": {},
   "outputs": [
    {
     "data": {
      "text/plain": [
       "[{0: 'Vallès Oriental', 'index': 0},\n",
       " {0: 'Alt Penedès', 'index': 1},\n",
       " {0: 'Baix Llobregat', 'index': 2},\n",
       " {0: 'Barcelonès', 'index': 3},\n",
       " {0: 'Garraf', 'index': 4},\n",
       " {0: 'Maresme', 'index': 5},\n",
       " {0: 'Vallès Occidental', 'index': 6}]"
      ]
     },
     "execution_count": 42,
     "metadata": {},
     "output_type": "execute_result"
    }
   ],
   "source": [
    "aux.to_dict(orient=\"records\")"
   ]
  },
  {
   "cell_type": "code",
   "execution_count": 43,
   "metadata": {},
   "outputs": [],
   "source": [
    "df = pd.read_csv(\"comarques.csv\")"
   ]
  },
  {
   "cell_type": "code",
   "execution_count": 52,
   "metadata": {},
   "outputs": [],
   "source": [
    "dicc_com = df.set_index('index')['comarca'].to_dict()"
   ]
  },
  {
   "cell_type": "code",
   "execution_count": 54,
   "metadata": {},
   "outputs": [
    {
     "data": {
      "text/plain": [
       "['comarques.joblib']"
      ]
     },
     "execution_count": 54,
     "metadata": {},
     "output_type": "execute_result"
    }
   ],
   "source": [
    "joblib.dump(dicc_com, \"comarques.joblib\")"
   ]
  },
  {
   "cell_type": "code",
   "execution_count": 55,
   "metadata": {},
   "outputs": [],
   "source": [
    "dict_models = joblib.load(\"./models/all_models.pkl\")\n",
    "dict_features = joblib.load(\"./models/all_features.pkl\")\n",
    "dict_comarques = joblib.load(\"./comarques.joblib\")"
   ]
  },
  {
   "cell_type": "code",
   "execution_count": 62,
   "metadata": {},
   "outputs": [
    {
     "data": {
      "text/plain": [
       "dict_keys(['Vallès Oriental', 'Alt Penedès', 'Baix Llobregat', 'Barcelonès', 'Garraf', 'Maresme', 'Vallès Occidental'])"
      ]
     },
     "execution_count": 62,
     "metadata": {},
     "output_type": "execute_result"
    }
   ],
   "source": [
    "dict_features.keys()"
   ]
  },
  {
   "cell_type": "code",
   "execution_count": 65,
   "metadata": {},
   "outputs": [
    {
     "data": {
      "text/html": [
       "<div>\n",
       "<style scoped>\n",
       "    .dataframe tbody tr th:only-of-type {\n",
       "        vertical-align: middle;\n",
       "    }\n",
       "\n",
       "    .dataframe tbody tr th {\n",
       "        vertical-align: top;\n",
       "    }\n",
       "\n",
       "    .dataframe thead th {\n",
       "        text-align: right;\n",
       "    }\n",
       "</style>\n",
       "<table border=\"1\" class=\"dataframe\">\n",
       "  <thead>\n",
       "    <tr style=\"text-align: right;\">\n",
       "      <th></th>\n",
       "      <th>comarca</th>\n",
       "      <th>data_lectura</th>\n",
       "      <th>temp</th>\n",
       "      <th>precip</th>\n",
       "      <th>hume</th>\n",
       "      <th>temp_anterior</th>\n",
       "      <th>precip_anterior</th>\n",
       "      <th>hume_anterior</th>\n",
       "    </tr>\n",
       "  </thead>\n",
       "  <tbody>\n",
       "    <tr>\n",
       "      <th>0</th>\n",
       "      <td>Vallès Oriental</td>\n",
       "      <td>2009-01-01</td>\n",
       "      <td>8.059722</td>\n",
       "      <td>0.000000</td>\n",
       "      <td>86.152778</td>\n",
       "      <td>NaN</td>\n",
       "      <td>NaN</td>\n",
       "      <td>NaN</td>\n",
       "    </tr>\n",
       "    <tr>\n",
       "      <th>1</th>\n",
       "      <td>Vallès Oriental</td>\n",
       "      <td>2009-01-02</td>\n",
       "      <td>7.416667</td>\n",
       "      <td>0.008333</td>\n",
       "      <td>91.291667</td>\n",
       "      <td>8.059722</td>\n",
       "      <td>0.000000</td>\n",
       "      <td>86.152778</td>\n",
       "    </tr>\n",
       "    <tr>\n",
       "      <th>2</th>\n",
       "      <td>Vallès Oriental</td>\n",
       "      <td>2009-01-03</td>\n",
       "      <td>5.665278</td>\n",
       "      <td>0.000000</td>\n",
       "      <td>92.083333</td>\n",
       "      <td>7.416667</td>\n",
       "      <td>0.008333</td>\n",
       "      <td>91.291667</td>\n",
       "    </tr>\n",
       "    <tr>\n",
       "      <th>3</th>\n",
       "      <td>Vallès Oriental</td>\n",
       "      <td>2009-01-04</td>\n",
       "      <td>4.345833</td>\n",
       "      <td>0.002083</td>\n",
       "      <td>81.638889</td>\n",
       "      <td>5.665278</td>\n",
       "      <td>0.000000</td>\n",
       "      <td>92.083333</td>\n",
       "    </tr>\n",
       "    <tr>\n",
       "      <th>4</th>\n",
       "      <td>Vallès Oriental</td>\n",
       "      <td>2009-01-05</td>\n",
       "      <td>3.138824</td>\n",
       "      <td>0.002083</td>\n",
       "      <td>76.811765</td>\n",
       "      <td>4.345833</td>\n",
       "      <td>0.002083</td>\n",
       "      <td>81.638889</td>\n",
       "    </tr>\n",
       "    <tr>\n",
       "      <th>...</th>\n",
       "      <td>...</td>\n",
       "      <td>...</td>\n",
       "      <td>...</td>\n",
       "      <td>...</td>\n",
       "      <td>...</td>\n",
       "      <td>...</td>\n",
       "      <td>...</td>\n",
       "      <td>...</td>\n",
       "    </tr>\n",
       "    <tr>\n",
       "      <th>37095</th>\n",
       "      <td>Vallès Occidental</td>\n",
       "      <td>2023-07-05</td>\n",
       "      <td>21.832143</td>\n",
       "      <td>0.007143</td>\n",
       "      <td>84.946429</td>\n",
       "      <td>23.057962</td>\n",
       "      <td>0.000633</td>\n",
       "      <td>78.019108</td>\n",
       "    </tr>\n",
       "    <tr>\n",
       "      <th>37096</th>\n",
       "      <td>Vallès Occidental</td>\n",
       "      <td>2023-07-06</td>\n",
       "      <td>22.760119</td>\n",
       "      <td>0.011905</td>\n",
       "      <td>76.791667</td>\n",
       "      <td>21.832143</td>\n",
       "      <td>0.007143</td>\n",
       "      <td>84.946429</td>\n",
       "    </tr>\n",
       "    <tr>\n",
       "      <th>37097</th>\n",
       "      <td>Vallès Occidental</td>\n",
       "      <td>2023-07-07</td>\n",
       "      <td>23.723214</td>\n",
       "      <td>0.000000</td>\n",
       "      <td>68.672619</td>\n",
       "      <td>22.760119</td>\n",
       "      <td>0.011905</td>\n",
       "      <td>76.791667</td>\n",
       "    </tr>\n",
       "    <tr>\n",
       "      <th>37098</th>\n",
       "      <td>Vallès Occidental</td>\n",
       "      <td>2023-07-08</td>\n",
       "      <td>25.869048</td>\n",
       "      <td>0.000000</td>\n",
       "      <td>61.208333</td>\n",
       "      <td>23.723214</td>\n",
       "      <td>0.000000</td>\n",
       "      <td>68.672619</td>\n",
       "    </tr>\n",
       "    <tr>\n",
       "      <th>37099</th>\n",
       "      <td>Vallès Occidental</td>\n",
       "      <td>2023-07-09</td>\n",
       "      <td>25.338776</td>\n",
       "      <td>0.000000</td>\n",
       "      <td>63.390476</td>\n",
       "      <td>25.869048</td>\n",
       "      <td>0.000000</td>\n",
       "      <td>61.208333</td>\n",
       "    </tr>\n",
       "  </tbody>\n",
       "</table>\n",
       "<p>37100 rows × 8 columns</p>\n",
       "</div>"
      ],
      "text/plain": [
       "                 comarca data_lectura       temp    precip       hume  \\\n",
       "0        Vallès Oriental   2009-01-01   8.059722  0.000000  86.152778   \n",
       "1        Vallès Oriental   2009-01-02   7.416667  0.008333  91.291667   \n",
       "2        Vallès Oriental   2009-01-03   5.665278  0.000000  92.083333   \n",
       "3        Vallès Oriental   2009-01-04   4.345833  0.002083  81.638889   \n",
       "4        Vallès Oriental   2009-01-05   3.138824  0.002083  76.811765   \n",
       "...                  ...          ...        ...       ...        ...   \n",
       "37095  Vallès Occidental   2023-07-05  21.832143  0.007143  84.946429   \n",
       "37096  Vallès Occidental   2023-07-06  22.760119  0.011905  76.791667   \n",
       "37097  Vallès Occidental   2023-07-07  23.723214  0.000000  68.672619   \n",
       "37098  Vallès Occidental   2023-07-08  25.869048  0.000000  61.208333   \n",
       "37099  Vallès Occidental   2023-07-09  25.338776  0.000000  63.390476   \n",
       "\n",
       "       temp_anterior  precip_anterior  hume_anterior  \n",
       "0                NaN              NaN            NaN  \n",
       "1           8.059722         0.000000      86.152778  \n",
       "2           7.416667         0.008333      91.291667  \n",
       "3           5.665278         0.000000      92.083333  \n",
       "4           4.345833         0.002083      81.638889  \n",
       "...              ...              ...            ...  \n",
       "37095      23.057962         0.000633      78.019108  \n",
       "37096      21.832143         0.007143      84.946429  \n",
       "37097      22.760119         0.011905      76.791667  \n",
       "37098      23.723214         0.000000      68.672619  \n",
       "37099      25.869048         0.000000      61.208333  \n",
       "\n",
       "[37100 rows x 8 columns]"
      ]
     },
     "execution_count": 65,
     "metadata": {},
     "output_type": "execute_result"
    }
   ],
   "source": [
    "df = pd.read_csv(\"./datasets_models/data.csv\")\n",
    "df"
   ]
  },
  {
   "cell_type": "code",
   "execution_count": 75,
   "metadata": {},
   "outputs": [
    {
     "data": {
      "text/plain": [
       "array([25.47430555555556, 0.0, 55.19444444444444], dtype=object)"
      ]
     },
     "execution_count": 75,
     "metadata": {},
     "output_type": "execute_result"
    }
   ],
   "source": [
    "df[df.comarca == \"Vallès Oriental\"].iloc[-1].values[-3:]"
   ]
  }
 ],
 "metadata": {
  "kernelspec": {
   "display_name": "Python 3",
   "language": "python",
   "name": "python3"
  },
  "language_info": {
   "codemirror_mode": {
    "name": "ipython",
    "version": 3
   },
   "file_extension": ".py",
   "mimetype": "text/x-python",
   "name": "python",
   "nbconvert_exporter": "python",
   "pygments_lexer": "ipython3",
   "version": "3.11.4"
  },
  "orig_nbformat": 4
 },
 "nbformat": 4,
 "nbformat_minor": 2
}

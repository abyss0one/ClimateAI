{
 "cells": [
  {
   "cell_type": "code",
   "execution_count": 14,
   "metadata": {},
   "outputs": [],
   "source": [
    "import pandas as pd\n",
    "from sklearn.model_selection import train_test_split\n",
    "from sklearn.linear_model import LinearRegression\n",
    "from sklearn.preprocessing import PolynomialFeatures\n",
    "from sklearn.metrics import mean_absolute_error, mean_squared_error, r2_score\n",
    "import matplotlib.pyplot as plt\n",
    "import matplotlib.dates as mdates\n",
    "from datetime import datetime"
   ]
  },
  {
   "cell_type": "code",
   "execution_count": 18,
   "metadata": {},
   "outputs": [],
   "source": [
    "df_temp = pd.read_csv(\"./datasets_models/mean_temp_x_day.csv\").drop([\"codi_variable\"], axis=1)\n",
    "df_hume = pd.read_csv(\"./datasets_models/mean_hume_x_day.csv\").drop([\"codi_variable\"], axis=1)"
   ]
  },
  {
   "cell_type": "code",
   "execution_count": 19,
   "metadata": {},
   "outputs": [],
   "source": [
    "df_hume['valor_anterior'] = df_hume.groupby('comarca')['valor_lectura'].shift(1)"
   ]
  },
  {
   "cell_type": "code",
   "execution_count": 20,
   "metadata": {},
   "outputs": [],
   "source": [
    "df_hume['data_lectura'] = pd.to_datetime(df_hume['data_lectura'])\n",
    "df = df_hume.dropna().reset_index(drop=True)\n",
    "df['mes'] = df['data_lectura'].dt.month\n",
    "df = df.drop([\"data_lectura\"], axis=1)"
   ]
  },
  {
   "cell_type": "code",
   "execution_count": 21,
   "metadata": {},
   "outputs": [
    {
     "data": {
      "text/html": [
       "<div>\n",
       "<style scoped>\n",
       "    .dataframe tbody tr th:only-of-type {\n",
       "        vertical-align: middle;\n",
       "    }\n",
       "\n",
       "    .dataframe tbody tr th {\n",
       "        vertical-align: top;\n",
       "    }\n",
       "\n",
       "    .dataframe thead th {\n",
       "        text-align: right;\n",
       "    }\n",
       "</style>\n",
       "<table border=\"1\" class=\"dataframe\">\n",
       "  <thead>\n",
       "    <tr style=\"text-align: right;\">\n",
       "      <th></th>\n",
       "      <th>comarca</th>\n",
       "      <th>valor_lectura</th>\n",
       "      <th>valor_anterior</th>\n",
       "      <th>mes</th>\n",
       "    </tr>\n",
       "  </thead>\n",
       "  <tbody>\n",
       "    <tr>\n",
       "      <th>0</th>\n",
       "      <td>Vallès Oriental</td>\n",
       "      <td>91.291667</td>\n",
       "      <td>86.152778</td>\n",
       "      <td>1</td>\n",
       "    </tr>\n",
       "    <tr>\n",
       "      <th>1</th>\n",
       "      <td>Vallès Oriental</td>\n",
       "      <td>92.083333</td>\n",
       "      <td>91.291667</td>\n",
       "      <td>1</td>\n",
       "    </tr>\n",
       "    <tr>\n",
       "      <th>2</th>\n",
       "      <td>Vallès Oriental</td>\n",
       "      <td>81.638889</td>\n",
       "      <td>92.083333</td>\n",
       "      <td>1</td>\n",
       "    </tr>\n",
       "    <tr>\n",
       "      <th>3</th>\n",
       "      <td>Vallès Oriental</td>\n",
       "      <td>76.811765</td>\n",
       "      <td>81.638889</td>\n",
       "      <td>1</td>\n",
       "    </tr>\n",
       "    <tr>\n",
       "      <th>4</th>\n",
       "      <td>Vallès Oriental</td>\n",
       "      <td>92.875000</td>\n",
       "      <td>76.811765</td>\n",
       "      <td>1</td>\n",
       "    </tr>\n",
       "    <tr>\n",
       "      <th>...</th>\n",
       "      <td>...</td>\n",
       "      <td>...</td>\n",
       "      <td>...</td>\n",
       "      <td>...</td>\n",
       "    </tr>\n",
       "    <tr>\n",
       "      <th>37088</th>\n",
       "      <td>Vallès Occidental</td>\n",
       "      <td>84.946429</td>\n",
       "      <td>78.019108</td>\n",
       "      <td>7</td>\n",
       "    </tr>\n",
       "    <tr>\n",
       "      <th>37089</th>\n",
       "      <td>Vallès Occidental</td>\n",
       "      <td>76.791667</td>\n",
       "      <td>84.946429</td>\n",
       "      <td>7</td>\n",
       "    </tr>\n",
       "    <tr>\n",
       "      <th>37090</th>\n",
       "      <td>Vallès Occidental</td>\n",
       "      <td>68.672619</td>\n",
       "      <td>76.791667</td>\n",
       "      <td>7</td>\n",
       "    </tr>\n",
       "    <tr>\n",
       "      <th>37091</th>\n",
       "      <td>Vallès Occidental</td>\n",
       "      <td>61.208333</td>\n",
       "      <td>68.672619</td>\n",
       "      <td>7</td>\n",
       "    </tr>\n",
       "    <tr>\n",
       "      <th>37092</th>\n",
       "      <td>Vallès Occidental</td>\n",
       "      <td>63.390476</td>\n",
       "      <td>61.208333</td>\n",
       "      <td>7</td>\n",
       "    </tr>\n",
       "  </tbody>\n",
       "</table>\n",
       "<p>37093 rows × 4 columns</p>\n",
       "</div>"
      ],
      "text/plain": [
       "                 comarca  valor_lectura  valor_anterior  mes\n",
       "0        Vallès Oriental      91.291667       86.152778    1\n",
       "1        Vallès Oriental      92.083333       91.291667    1\n",
       "2        Vallès Oriental      81.638889       92.083333    1\n",
       "3        Vallès Oriental      76.811765       81.638889    1\n",
       "4        Vallès Oriental      92.875000       76.811765    1\n",
       "...                  ...            ...             ...  ...\n",
       "37088  Vallès Occidental      84.946429       78.019108    7\n",
       "37089  Vallès Occidental      76.791667       84.946429    7\n",
       "37090  Vallès Occidental      68.672619       76.791667    7\n",
       "37091  Vallès Occidental      61.208333       68.672619    7\n",
       "37092  Vallès Occidental      63.390476       61.208333    7\n",
       "\n",
       "[37093 rows x 4 columns]"
      ]
     },
     "execution_count": 21,
     "metadata": {},
     "output_type": "execute_result"
    }
   ],
   "source": [
    "df"
   ]
  },
  {
   "cell_type": "code",
   "execution_count": 22,
   "metadata": {},
   "outputs": [],
   "source": [
    "dicc_comarques = {}\n",
    "\n",
    "# Itera sobre las comarcas únicas en el dataframe\n",
    "for comarca in df['comarca'].unique():\n",
    "    # Filtra las filas correspondientes a la comarca actual\n",
    "    df_comarca = df[df['comarca'] == comarca].copy()\n",
    "    \n",
    "    # Elimina la columna \"comarca\" del dataframe resultante\n",
    "    df_comarca.drop('comarca', axis=1, inplace=True)\n",
    "    \n",
    "    # Almacena el dataframe en el diccionario\n",
    "    dicc_comarques[comarca] = df_comarca.reset_index(drop=True)"
   ]
  },
  {
   "cell_type": "code",
   "execution_count": 23,
   "metadata": {},
   "outputs": [
    {
     "data": {
      "text/plain": [
       "['Vallès Oriental',\n",
       " 'Alt Penedès',\n",
       " 'Baix Llobregat',\n",
       " 'Barcelonès',\n",
       " 'Garraf',\n",
       " 'Maresme',\n",
       " 'Vallès Occidental']"
      ]
     },
     "execution_count": 23,
     "metadata": {},
     "output_type": "execute_result"
    }
   ],
   "source": [
    "comarques_bcn = list(dicc_comarques.keys())\n",
    "comarques_bcn"
   ]
  },
  {
   "cell_type": "code",
   "execution_count": 24,
   "metadata": {},
   "outputs": [
    {
     "data": {
      "image/png": "[encoded data removed]",
      "text/plain": [
       "<Figure size 640x480 with 2 Axes>"
      ]
     },
     "metadata": {},
     "output_type": "display_data"
    }
   ],
   "source": [
    "comarca = 0\n",
    "matriz_correlacion = dicc_comarques[comarques_bcn[comarca]].corr()\n",
    "\n",
    "fig, ax = plt.subplots()\n",
    "im = ax.imshow(matriz_correlacion, cmap='RdYlBu', vmin=-1, vmax=1,)\n",
    "cbar = ax.figure.colorbar(im, ax=ax)\n",
    "\n",
    "ax.set_xticks(range(len(matriz_correlacion.columns)))\n",
    "ax.set_yticks(range(len(matriz_correlacion.columns)))\n",
    "ax.set_xticklabels(matriz_correlacion.columns)\n",
    "ax.set_yticklabels(matriz_correlacion.columns)\n",
    "\n",
    "plt.xticks(rotation=45, ha='right')\n",
    "\n",
    "for i in range(len(matriz_correlacion.columns)):\n",
    "    for j in range(len(matriz_correlacion.columns)):\n",
    "        text = ax.text(j, i, round(matriz_correlacion.iloc[i, j], 2),\n",
    "                       ha=\"center\", va=\"center\", color=\"black\")\n",
    "\n",
    "ax.set_title(f\"Matriz de correlación - {comarques_bcn[comarca]}\")\n",
    "\n",
    "plt.show()"
   ]
  },
  {
   "cell_type": "code",
   "execution_count": 25,
   "metadata": {},
   "outputs": [],
   "source": [
    "comarca = 0\n",
    "x = dicc_comarques[comarques_bcn[comarca]].drop([\"valor_lectura\"], axis=1)\n",
    "y = dicc_comarques[comarques_bcn[comarca]].valor_lectura\n",
    "\n",
    "x_train, x_test, y_train, y_test = train_test_split(x, y, test_size=0.2, random_state=47)"
   ]
  },
  {
   "cell_type": "code",
   "execution_count": 26,
   "metadata": {},
   "outputs": [
    {
     "name": "stdout",
     "output_type": "stream",
     "text": [
      "Fit&Predict with degree: 1\n",
      "Error cuadrático medio (MSE): 78.12587133682965\n",
      "R2 Score: 0.45022615298571367\n",
      "\n",
      "Fit&Predict with degree: 2\n",
      "Error cuadrático medio (MSE): 77.01336026790246\n",
      "R2 Score: 0.45805492314525686\n",
      "\n",
      "Fit&Predict with degree: 3\n",
      "Error cuadrático medio (MSE): 76.87826523380308\n",
      "R2 Score: 0.4590055905149574\n",
      "\n",
      "Fit&Predict with degree: 4\n",
      "Error cuadrático medio (MSE): 76.76939347771739\n",
      "R2 Score: 0.45977172397561816\n",
      "\n",
      "Fit&Predict with degree: 5\n",
      "Error cuadrático medio (MSE): 76.6996661706079\n",
      "R2 Score: 0.460262396901444\n",
      "\n",
      "Fit&Predict with degree: 6\n",
      "Error cuadrático medio (MSE): 77.5547441531912\n",
      "R2 Score: 0.45424519025865007\n",
      "\n",
      "Fit&Predict with degree: 7\n",
      "Error cuadrático medio (MSE): 77.86152752890352\n",
      "R2 Score: 0.45208634743514753\n",
      "\n",
      "Fit&Predict with degree: 8\n",
      "Error cuadrático medio (MSE): 77.8115006985831\n",
      "R2 Score: 0.45243838757868227\n",
      "\n",
      "Fit&Predict with degree: 9\n",
      "Error cuadrático medio (MSE): 78.281408132085\n",
      "R2 Score: 0.44913163639579756\n",
      "\n",
      "Fit&Predict with degree: 10\n",
      "Error cuadrático medio (MSE): 77.78819530582726\n",
      "R2 Score: 0.45260238825108834\n",
      "\n"
     ]
    }
   ],
   "source": [
    "for i in range(10):\n",
    "    poly_features = PolynomialFeatures(degree=i+1)\n",
    "    x_train_poly = poly_features.fit_transform(x_train)\n",
    "    x_test_poly = poly_features.transform(x_test)\n",
    "\n",
    "    model = LinearRegression()\n",
    "    model.fit(x_train_poly, y_train)\n",
    "\n",
    "    y_pred = model.predict(x_test_poly)\n",
    "\n",
    "    print(f'Fit&Predict with degree: {i+1}')\n",
    "    mse = mean_squared_error(y_test, y_pred)\n",
    "    r2 = r2_score(y_test, y_pred)\n",
    "    print(f\"Error cuadrático medio (MSE): {mse}\")\n",
    "    print(f\"R2 Score: {r2}\\n\")"
   ]
  },
  {
   "cell_type": "code",
   "execution_count": null,
   "metadata": {},
   "outputs": [],
   "source": []
  }
 ],
 "metadata": {
  "kernelspec": {
   "display_name": "Python 3",
   "language": "python",
   "name": "python3"
  },
  "language_info": {
   "codemirror_mode": {
    "name": "ipython",
    "version": 3
   },
   "file_extension": ".py",
   "mimetype": "text/x-python",
   "name": "python",
   "nbconvert_exporter": "python",
   "pygments_lexer": "ipython3",
   "version": "3.11.4"
  },
  "orig_nbformat": 4
 },
 "nbformat": 4,
 "nbformat_minor": 2
}

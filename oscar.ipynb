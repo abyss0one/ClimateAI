{
 "cells": [
  {
   "cell_type": "code",
   "execution_count": 2,
   "metadata": {},
   "outputs": [],
   "source": [
    "import pandas as pd\n",
    "from sklearn.model_selection import train_test_split\n",
    "from sklearn.linear_model import LinearRegression\n",
    "from sklearn.preprocessing import PolynomialFeatures\n",
    "from sklearn.metrics import mean_absolute_error, mean_squared_error, r2_score\n",
    "import matplotlib.pyplot as plt"
   ]
  },
  {
   "cell_type": "code",
   "execution_count": 4,
   "metadata": {},
   "outputs": [],
   "source": [
    "folder = \"./datasets_models/\"\n",
    "df = pd.read_csv(folder + \"data.csv\")"
   ]
  },
  {
   "cell_type": "code",
   "execution_count": 5,
   "metadata": {},
   "outputs": [],
   "source": [
    "df['data_lectura'] = pd.to_datetime(df['data_lectura'])\n",
    "df = df.dropna()\n",
    "df['anio'] = df['data_lectura'].dt.year\n",
    "df['mes'] = df['data_lectura'].dt.month\n",
    "df['dia'] = df['data_lectura'].dt.day\n",
    "df['dia_semana'] = df['data_lectura'].dt.dayofweek"
   ]
  },
  {
   "cell_type": "code",
   "execution_count": 4,
   "metadata": {},
   "outputs": [
    {
     "name": "stdout",
     "output_type": "stream",
     "text": [
      "<class 'pandas.core.frame.DataFrame'>\n",
      "Int64Index: 37093 entries, 1 to 37099\n",
      "Data columns (total 12 columns):\n",
      " #   Column           Non-Null Count  Dtype         \n",
      "---  ------           --------------  -----         \n",
      " 0   comarca          37093 non-null  object        \n",
      " 1   data_lectura     37093 non-null  datetime64[ns]\n",
      " 2   temp             37093 non-null  float64       \n",
      " 3   precip           37093 non-null  float64       \n",
      " 4   hume             37093 non-null  float64       \n",
      " 5   temp_anterior    37093 non-null  float64       \n",
      " 6   precip_anterior  37093 non-null  float64       \n",
      " 7   hume_anterior    37093 non-null  float64       \n",
      " 8   anio             37093 non-null  int64         \n",
      " 9   mes              37093 non-null  int64         \n",
      " 10  dia              37093 non-null  int64         \n",
      " 11  dia_semana       37093 non-null  int64         \n",
      "dtypes: datetime64[ns](1), float64(6), int64(4), object(1)\n",
      "memory usage: 3.7+ MB\n"
     ]
    }
   ],
   "source": [
    "df.info()"
   ]
  },
  {
   "cell_type": "code",
   "execution_count": 6,
   "metadata": {},
   "outputs": [],
   "source": [
    "import numpy as np\n",
    "import pandas as pd\n",
    "from sklearn.preprocessing import PolynomialFeatures\n",
    "\n",
    "# Seleccionar las columnas numéricas relevantes\n",
    "numeric_columns = ['temp', 'hume', 'temp_anterior', 'precip_anterior', 'hume_anterior']\n",
    "\n",
    "# Obtener las características numéricas del DataFrame\n",
    "x_values = df[numeric_columns]\n",
    "\n",
    "# Crear una instancia de PolynomialFeatures con el grado deseado\n",
    "poly_features = PolynomialFeatures(degree=2)\n",
    "\n",
    "# Ajustar PolynomialFeatures a las características numéricas\n",
    "x_values_poly = poly_features.fit_transform(x_values)\n",
    "\n",
    "# Resto del código...\n"
   ]
  },
  {
   "cell_type": "code",
   "execution_count": 9,
   "metadata": {},
   "outputs": [],
   "source": [
    "from sklearn.linear_model import LinearRegression\n",
    "from sklearn.model_selection import train_test_split\n",
    "\n",
    "# Definir la variable objetivo\n",
    "y = df['precip']  # Reemplaza 'target_column' por el nombre de tu columna objetivo\n",
    "\n",
    "# Dividir los datos en conjuntos de entrenamiento y prueba\n",
    "X_train, X_test, y_train, y_test = train_test_split(x_values_poly, y, test_size=0.2, random_state=47)\n",
    "\n",
    "# Crear una instancia del modelo de regresión lineal\n",
    "model = LinearRegression()\n",
    "\n",
    "# Entrenar el modelo con los datos de entrenamiento\n",
    "model.fit(X_train, y_train)\n",
    "\n",
    "# Predecir los valores para los datos de prueba\n",
    "y_pred = model.predict(X_test)\n",
    "\n",
    "# Evaluación del modelo\n",
    "# Aquí puedes realizar métricas de evaluación específicas según tu problema\n"
   ]
  },
  {
   "cell_type": "code",
   "execution_count": 17,
   "metadata": {},
   "outputs": [
    {
     "data": {
      "text/plain": [
       "array([[1.00000000e+00, 1.73619048e+01, 1.07142857e-02, ...,\n",
       "        0.00000000e+00, 0.00000000e+00, 5.48040565e+03],\n",
       "       [1.00000000e+00, 7.96388889e+00, 0.00000000e+00, ...,\n",
       "        0.00000000e+00, 0.00000000e+00, 3.63843538e+03],\n",
       "       [1.00000000e+00, 1.48850000e+01, 0.00000000e+00, ...,\n",
       "        0.00000000e+00, 0.00000000e+00, 7.49090250e+03],\n",
       "       ...,\n",
       "       [1.00000000e+00, 6.67586207e+00, 2.08333333e-03, ...,\n",
       "        1.64160156e-02, 1.11051599e+01, 7.51245484e+03],\n",
       "       [1.00000000e+00, 1.23966667e+01, 4.58333333e-02, ...,\n",
       "        0.00000000e+00, 0.00000000e+00, 5.76081000e+03],\n",
       "       [1.00000000e+00, 1.27366667e+01, 1.66666667e-03, ...,\n",
       "        1.13777778e-02, 7.99822222e+00, 5.62250028e+03]])"
      ]
     },
     "execution_count": 17,
     "metadata": {},
     "output_type": "execute_result"
    }
   ],
   "source": [
    "X_test"
   ]
  },
  {
   "cell_type": "code",
   "execution_count": 10,
   "metadata": {},
   "outputs": [
    {
     "name": "stdout",
     "output_type": "stream",
     "text": [
      "Error cuadrático medio (MSE): 0.01800500391352992\n",
      "Coeficiente de determinación (R²): 0.2918393103824246\n"
     ]
    }
   ],
   "source": [
    "from sklearn.metrics import mean_squared_error, r2_score\n",
    "\n",
    "# Realizar predicciones en los datos de prueba\n",
    "y_pred = model.predict(X_test)\n",
    "\n",
    "# Calcular el error cuadrático medio (MSE)\n",
    "mse = mean_squared_error(y_test, y_pred)\n",
    "print(\"Error cuadrático medio (MSE):\", mse)\n",
    "\n",
    "# Calcular el coeficiente de determinación (R²)\n",
    "r2 = r2_score(y_test, y_pred)\n",
    "print(\"Coeficiente de determinación (R²):\", r2)\n",
    "\n"
   ]
  },
  {
   "cell_type": "markdown",
   "metadata": {},
   "source": [
    "Un error cuadrático medio (MSE) de 3.849480300865921e-26 y un coeficiente de determinación (R²) de 1.0 indican que el modelo de regresión lineal se ajusta perfectamente a los datos de prueba. Esto significa que el modelo es capaz de predecir con precisión los valores de precipitación en función de las características polinómicas utilizadas.\n",
    "\n",
    "Un MSE de 3.849480300865921e-26, siendo tan cercano a cero, indica que las predicciones del modelo están muy cerca de los valores reales de precipitación en los datos de prueba. Un R² de 1.0 indica que el modelo explica la variabilidad completa de los datos de prueba y no hay errores residuales."
   ]
  },
  {
   "cell_type": "code",
   "execution_count": 12,
   "metadata": {},
   "outputs": [
    {
     "name": "stdout",
     "output_type": "stream",
     "text": [
      "Error cuadrático medio promedio: 6.882365270340479e-26\n",
      "Coeficiente de determinación promedio: -6.882365270340479e-26\n"
     ]
    }
   ],
   "source": [
    "from sklearn.model_selection import cross_val_score\n",
    "\n",
    "# Realizar validación cruzada con 5 divisiones (folds)\n",
    "scores = cross_val_score(model, x_values_poly, y, cv=5, scoring='neg_mean_squared_error')\n",
    "\n",
    "# Calcular el error cuadrático medio (MSE) promedio\n",
    "mse_mean = -scores.mean()\n",
    "print(\"Error cuadrático medio promedio:\", mse_mean)\n",
    "\n",
    "# Calcular el coeficiente de determinación (R²) promedio\n",
    "r2_mean = scores.mean()\n",
    "print(\"Coeficiente de determinación promedio:\", r2_mean)\n"
   ]
  },
  {
   "cell_type": "markdown",
   "metadata": {},
   "source": [
    "Si el error cuadrático medio promedio es de 6.882365270340479e-26 y el coeficiente de determinación promedio es de -6.882365270340479e-26, significa que los valores obtenidos son muy cercanos a cero. Esto indica un rendimiento excepcionalmente bueno del modelo en la validación cruzada.\n",
    "\n",
    "Un error cuadrático medio promedio tan cercano a cero indica que las predicciones del modelo están muy cerca de los valores reales de precipitación en todos los pliegues de la validación cruzada. Un coeficiente de determinación promedio cercano a cero indica que el modelo no puede explicar la variabilidad de los datos de prueba y no hay relación lineal aparente entre las características polinómicas y la precipitación.\n",
    "\n",
    "Es posible que estos resultados sean demasiado buenos y sugieran algún problema con los datos o el proceso de validación cruzada. Te recomendaría revisar tus datos y el código utilizado para asegurarte de que todo sea correcto.\n",
    "\n",
    "Si sigues teniendo resultados inesperados, sería útil revisar la implementación de tu modelo y realizar una validación cruzada con más pliegues o ajustar otros hiperparámetros del modelo para obtener una evaluación más precisa del rendimiento."
   ]
  },
  {
   "cell_type": "code",
   "execution_count": 13,
   "metadata": {},
   "outputs": [
    {
     "name": "stdout",
     "output_type": "stream",
     "text": [
      "Error cuadrático medio promedio: 6.882365270340479e-26\n",
      "Desviación estándar del error cuadrático medio: 4.6946863255560425e-26\n",
      "Coeficiente de determinación promedio: 1.0\n",
      "Desviación estándar del coeficiente de determinación: 0.0\n"
     ]
    }
   ],
   "source": [
    "from sklearn.model_selection import cross_validate\n",
    "\n",
    "# Realizar validación cruzada estratificada con 5 divisiones (folds)\n",
    "scoring = ['neg_mean_squared_error', 'r2']\n",
    "cv_results = cross_validate(model, x_values_poly, y, cv=5, scoring=scoring)\n",
    "\n",
    "# Obtener los resultados de MSE y R² de la validación cruzada\n",
    "mse_scores = -cv_results['test_neg_mean_squared_error']\n",
    "r2_scores = cv_results['test_r2']\n",
    "\n",
    "# Calcular el MSE promedio y su desviación estándar\n",
    "mse_mean = mse_scores.mean()\n",
    "mse_std = mse_scores.std()\n",
    "print(\"Error cuadrático medio promedio:\", mse_mean)\n",
    "print(\"Desviación estándar del error cuadrático medio:\", mse_std)\n",
    "\n",
    "# Calcular el R² promedio y su desviación estándar\n",
    "r2_mean = r2_scores.mean()\n",
    "r2_std = r2_scores.std()\n",
    "print(\"Coeficiente de determinación promedio:\", r2_mean)\n",
    "print(\"Desviación estándar del coeficiente de determinación:\", r2_std)\n"
   ]
  },
  {
   "cell_type": "markdown",
   "metadata": {},
   "source": [
    "Si el error cuadrático medio promedio es de 6.882365270340479e-26 y la desviación estándar del error cuadrático medio es de 4.6946863255560425e-26, significa que el modelo tiene un rendimiento excepcionalmente bueno en la validación cruzada. El error cuadrático medio promedio cercano a cero indica que las predicciones del modelo están muy cerca de los valores reales de precipitación en todos los pliegues de la validación cruzada.\n",
    "\n",
    "Además, el coeficiente de determinación promedio de 1.0 indica que el modelo explica la variabilidad completa de los datos de prueba en cada pliegue. Esto significa que no hay errores residuales y el modelo se ajusta perfectamente a los datos.\n",
    "\n",
    "La desviación estándar del error cuadrático medio y la desviación estándar del coeficiente de determinación son muy cercanas a cero, lo que indica una consistencia en el rendimiento del modelo en todos los pliegues de la validación cruzada.\n",
    "\n",
    "Sin embargo, ten en cuenta que obtener un error cuadrático medio y un coeficiente de determinación perfectos en todos los pliegues puede indicar un posible sobreajuste del modelo a los datos. Es importante realizar una evaluación exhaustiva y considerar otras métricas de evaluación para tener una comprensión completa del rendimiento del modelo."
   ]
  },
  {
   "cell_type": "code",
   "execution_count": 14,
   "metadata": {},
   "outputs": [
    {
     "name": "stdout",
     "output_type": "stream",
     "text": [
      "Predicción: [0.8]\n"
     ]
    },
    {
     "name": "stderr",
     "output_type": "stream",
     "text": [
      "C:\\Users\\fundacion\\anaconda3\\lib\\site-packages\\sklearn\\base.py:420: UserWarning: X does not have valid feature names, but PolynomialFeatures was fitted with feature names\n",
      "  warnings.warn(\n"
     ]
    }
   ],
   "source": [
    "# Datos de entrada para la predicción\n",
    "new_data = [[1.5, 0.8, 0.6, 1.2, 0.5, 0.9]]  # Inserta los valores de las características polinómicas que deseas predecir\n",
    "\n",
    "# Transformar los datos de entrada utilizando PolynomialFeatures\n",
    "new_data_poly = poly_features.transform(new_data)\n",
    "\n",
    "# Realizar la predicción\n",
    "prediction = model.predict(new_data_poly)\n",
    "\n",
    "# Imprimir la predicción\n",
    "print(\"Predicción:\", prediction)\n"
   ]
  },
  {
   "cell_type": "code",
   "execution_count": 15,
   "metadata": {
    "scrolled": true
   },
   "outputs": [
    {
     "name": "stdout",
     "output_type": "stream",
     "text": [
      "Nombres de las columnas polinómicas:\n",
      "1\n",
      "temp\n",
      "precip\n",
      "hume\n",
      "temp_anterior\n",
      "precip_anterior\n",
      "hume_anterior\n",
      "temp^2\n",
      "temp precip\n",
      "temp hume\n",
      "temp temp_anterior\n",
      "temp precip_anterior\n",
      "temp hume_anterior\n",
      "precip^2\n",
      "precip hume\n",
      "precip temp_anterior\n",
      "precip precip_anterior\n",
      "precip hume_anterior\n",
      "hume^2\n",
      "hume temp_anterior\n",
      "hume precip_anterior\n",
      "hume hume_anterior\n",
      "temp_anterior^2\n",
      "temp_anterior precip_anterior\n",
      "temp_anterior hume_anterior\n",
      "precip_anterior^2\n",
      "precip_anterior hume_anterior\n",
      "hume_anterior^2\n"
     ]
    }
   ],
   "source": [
    "# Obtener los nombres de las columnas polinómicas\n",
    "column_names = poly_features.get_feature_names_out(numeric_columns)\n",
    "\n",
    "# Imprimir los nombres de las columnas\n",
    "print(\"Nombres de las columnas polinómicas:\")\n",
    "for column_name in column_names:\n",
    "    print(column_name)\n"
   ]
  },
  {
   "cell_type": "markdown",
   "metadata": {},
   "source": [
    "la lista new_data son los valores de las características polinómicas que deseas utilizar para hacer una predicción. Estos valores deben estar en el mismo orden que se utilizó para entrenar el modelo.\n",
    "\n",
    "Por ejemplo, si tienes las siguientes columnas numéricas seleccionadas para crear las características polinómicas: ['temp', 'precip', 'hume', 'temp_anterior', 'precip_anterior', 'hume_anterior'], entonces los valores que debes introducir en new_data corresponden a cada una de estas características en el mismo orden.\n",
    "\n",
    "Por ejemplo, si quieres hacer una predicción utilizando los siguientes valores de características polinómicas:\n",
    "\n",
    "temp: 25.6\n",
    "precip: 0.2\n",
    "hume: 0.7\n",
    "temp_anterior: 24.9\n",
    "precip_anterior: 0.1\n",
    "hume_anterior: 0.6"
   ]
  },
  {
   "cell_type": "code",
   "execution_count": 16,
   "metadata": {},
   "outputs": [
    {
     "name": "stdout",
     "output_type": "stream",
     "text": [
      "Predicción: [0.2]\n"
     ]
    },
    {
     "name": "stderr",
     "output_type": "stream",
     "text": [
      "C:\\Users\\fundacion\\anaconda3\\lib\\site-packages\\sklearn\\base.py:420: UserWarning: X does not have valid feature names, but PolynomialFeatures was fitted with feature names\n",
      "  warnings.warn(\n"
     ]
    }
   ],
   "source": [
    "# Datos de entrada para la predicción\n",
    "new_data = [[25.6, 0.2, 0.7, 24.9, 0.1, 0.6]]\n",
    "\n",
    "# Transformar los datos de entrada utilizando PolynomialFeatures\n",
    "new_data_poly = poly_features.transform(new_data)\n",
    "\n",
    "# Realizar la predicción\n",
    "prediction = model.predict(new_data_poly)\n",
    "\n",
    "# Imprimir la predicción\n",
    "print(\"Predicción:\", prediction)"
   ]
  },
  {
   "cell_type": "markdown",
   "metadata": {},
   "source": [
    "Si tu DataFrame original tiene una columna de fechas y también se incluyó en las características polinómicas, entonces deberías incluir el valor correspondiente de la fecha en new_data.\n",
    "\n",
    "Supongamos que tienes una columna llamada 'fecha' en tu DataFrame original y también se incluyó como una característica polinómica. Puedes agregar el valor de la fecha en new_data de la siguiente manera:\n",
    "\n",
    "python\n",
    "Copy code\n",
    "new_date = '2023-07-18'  # Reemplaza con la fecha que deseas predecir\n",
    "\n",
    "### Convertir la fecha a formato datetime si no está en ese formato\n",
    "\n",
    "new_date = pd.to_datetime(new_date)\n",
    "\n",
    "### Agregar el valor de la fecha en new_data\n",
    "\n",
    "new_data[0].append(new_date)\n",
    "\n",
    "En este ejemplo, new_date es la fecha que deseas predecir. Asegúrate de reemplazar '2023-07-18' con la fecha real que deseas utilizar.\n",
    "\n",
    "Si la fecha no está en formato datetime, puedes utilizar pd.to_datetime para convertirla a ese formato. Luego, se agrega el valor de la fecha en new_data mediante new_data[0].append(new_date).\n",
    "\n",
    "Recuerda que debes asegurarte de que el nombre de la columna de fecha en tu DataFrame coincida con el nombre de la columna utilizada en las características polinómicas. Además, ajusta el índice 0 en new_data[0] si estás agregando múltiples filas de datos para la predicción."
   ]
  },
  {
   "cell_type": "code",
   "execution_count": null,
   "metadata": {},
   "outputs": [],
   "source": []
  }
 ],
 "metadata": {
  "kernelspec": {
   "display_name": "Python 3 (ipykernel)",
   "language": "python",
   "name": "python3"
  },
  "language_info": {
   "codemirror_mode": {
    "name": "ipython",
    "version": 3
   },
   "file_extension": ".py",
   "mimetype": "text/x-python",
   "name": "python",
   "nbconvert_exporter": "python",
   "pygments_lexer": "ipython3",
   "version": "3.11.4"
  }
 },
 "nbformat": 4,
 "nbformat_minor": 2
}

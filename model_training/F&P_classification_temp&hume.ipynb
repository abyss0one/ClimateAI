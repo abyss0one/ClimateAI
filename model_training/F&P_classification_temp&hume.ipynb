{
 "cells": [
  {
   "cell_type": "code",
   "execution_count": 1,
   "metadata": {},
   "outputs": [],
   "source": [
    "import pandas as pd"
   ]
  },
  {
   "cell_type": "code",
   "execution_count": 2,
   "metadata": {},
   "outputs": [],
   "source": [
    "df = pd.read_csv(\"../datasets_models/data.csv\")"
   ]
  },
  {
   "cell_type": "code",
   "execution_count": null,
   "metadata": {},
   "outputs": [],
   "source": [
    "# x < 6 Nada de lluvia\n",
    "# 6 < x <= 12 Lluvia debil\n",
    "# 12 < x <= 90 Lluvia moderada\n",
    "# 90 < x <= 180 Lluvia fuerte\n",
    "# 180 < x <= 360 Lluvia muy fuerte\n",
    "# > 360 Lluvia torrencial"
   ]
  },
  {
   "cell_type": "code",
   "execution_count": 4,
   "metadata": {},
   "outputs": [],
   "source": [
    "def label_encoder(x):\n",
    "    if x < 6:\n",
    "        return 0\n",
    "    elif 6 < x <= 12:\n",
    "        return 1\n",
    "    elif 12 < x <= 90:\n",
    "        return 2\n",
    "    elif 90 < x <= 180:\n",
    "        return 3\n",
    "    elif 180 < x <= 360:\n",
    "        return 4\n",
    "    else:\n",
    "        return 5\n",
    "\n",
    "df['precip_encoded'] = df['precip'].apply(label_encoder)"
   ]
  },
  {
   "cell_type": "code",
   "execution_count": 8,
   "metadata": {},
   "outputs": [
    {
     "data": {
      "text/plain": [
       "0"
      ]
     },
     "execution_count": 8,
     "metadata": {},
     "output_type": "execute_result"
    }
   ],
   "source": []
  },
  {
   "cell_type": "code",
   "execution_count": null,
   "metadata": {},
   "outputs": [],
   "source": []
  }
 ],
 "metadata": {
  "kernelspec": {
   "display_name": "Python 3",
   "language": "python",
   "name": "python3"
  },
  "language_info": {
   "codemirror_mode": {
    "name": "ipython",
    "version": 3
   },
   "file_extension": ".py",
   "mimetype": "text/x-python",
   "name": "python",
   "nbconvert_exporter": "python",
   "pygments_lexer": "ipython3",
   "version": "3.11.4"
  },
  "orig_nbformat": 4
 },
 "nbformat": 4,
 "nbformat_minor": 2
}

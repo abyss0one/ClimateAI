{
 "cells": [
  {
   "cell_type": "code",
   "execution_count": 2,
   "metadata": {},
   "outputs": [],
   "source": [
    "import pandas as pd\n",
    "from sklearn.model_selection import train_test_split\n",
    "from sklearn.linear_model import LinearRegression\n",
    "from sklearn.preprocessing import PolynomialFeatures\n",
    "from sklearn.metrics import mean_absolute_error, mean_squared_error, r2_score\n",
    "import matplotlib.pyplot as plt"
   ]
  },
  {
   "cell_type": "code",
   "execution_count": 3,
   "metadata": {},
   "outputs": [],
   "source": [
    "folder = \"./datasets_models/\"\n",
    "df = pd.read_csv(folder + \"data.csv\")"
   ]
  },
  {
   "cell_type": "code",
   "execution_count": 4,
   "metadata": {},
   "outputs": [],
   "source": [
    "df['data_lectura'] = pd.to_datetime(df['data_lectura'])\n",
    "df = df.dropna().reset_index(drop=True)\n",
    "# df['anio'] = df['data_lectura'].dt.year\n",
    "# df['mes'] = df['data_lectura'].dt.month\n",
    "# df['dia'] = df['data_lectura'].dt.day\n",
    "# df['dia_semana'] = df['data_lectura'].dt.dayofweek"
   ]
  },
  {
   "cell_type": "code",
   "execution_count": 5,
   "metadata": {},
   "outputs": [
    {
     "data": {
      "text/html": [
       "<div>\n",
       "<style scoped>\n",
       "    .dataframe tbody tr th:only-of-type {\n",
       "        vertical-align: middle;\n",
       "    }\n",
       "\n",
       "    .dataframe tbody tr th {\n",
       "        vertical-align: top;\n",
       "    }\n",
       "\n",
       "    .dataframe thead th {\n",
       "        text-align: right;\n",
       "    }\n",
       "</style>\n",
       "<table border=\"1\" class=\"dataframe\">\n",
       "  <thead>\n",
       "    <tr style=\"text-align: right;\">\n",
       "      <th></th>\n",
       "      <th>comarca</th>\n",
       "      <th>data_lectura</th>\n",
       "      <th>temp</th>\n",
       "      <th>precip</th>\n",
       "      <th>hume</th>\n",
       "      <th>temp_anterior</th>\n",
       "      <th>precip_anterior</th>\n",
       "      <th>hume_anterior</th>\n",
       "    </tr>\n",
       "  </thead>\n",
       "  <tbody>\n",
       "    <tr>\n",
       "      <th>0</th>\n",
       "      <td>Alt Penedès</td>\n",
       "      <td>2009-01-02</td>\n",
       "      <td>7.803333</td>\n",
       "      <td>10.7</td>\n",
       "      <td>91.841667</td>\n",
       "      <td>7.972500</td>\n",
       "      <td>0.6</td>\n",
       "      <td>85.850000</td>\n",
       "    </tr>\n",
       "    <tr>\n",
       "      <th>1</th>\n",
       "      <td>Alt Penedès</td>\n",
       "      <td>2009-01-03</td>\n",
       "      <td>7.153333</td>\n",
       "      <td>4.4</td>\n",
       "      <td>90.591667</td>\n",
       "      <td>7.803333</td>\n",
       "      <td>10.7</td>\n",
       "      <td>91.841667</td>\n",
       "    </tr>\n",
       "    <tr>\n",
       "      <th>2</th>\n",
       "      <td>Alt Penedès</td>\n",
       "      <td>2009-01-04</td>\n",
       "      <td>5.501667</td>\n",
       "      <td>0.0</td>\n",
       "      <td>82.900000</td>\n",
       "      <td>7.153333</td>\n",
       "      <td>4.4</td>\n",
       "      <td>90.591667</td>\n",
       "    </tr>\n",
       "    <tr>\n",
       "      <th>3</th>\n",
       "      <td>Alt Penedès</td>\n",
       "      <td>2009-01-05</td>\n",
       "      <td>3.429167</td>\n",
       "      <td>0.2</td>\n",
       "      <td>76.541667</td>\n",
       "      <td>5.501667</td>\n",
       "      <td>0.0</td>\n",
       "      <td>82.900000</td>\n",
       "    </tr>\n",
       "    <tr>\n",
       "      <th>4</th>\n",
       "      <td>Alt Penedès</td>\n",
       "      <td>2009-01-06</td>\n",
       "      <td>2.607500</td>\n",
       "      <td>6.5</td>\n",
       "      <td>84.466667</td>\n",
       "      <td>3.429167</td>\n",
       "      <td>0.2</td>\n",
       "      <td>76.541667</td>\n",
       "    </tr>\n",
       "    <tr>\n",
       "      <th>...</th>\n",
       "      <td>...</td>\n",
       "      <td>...</td>\n",
       "      <td>...</td>\n",
       "      <td>...</td>\n",
       "      <td>...</td>\n",
       "      <td>...</td>\n",
       "      <td>...</td>\n",
       "      <td>...</td>\n",
       "    </tr>\n",
       "    <tr>\n",
       "      <th>37088</th>\n",
       "      <td>Vallès Oriental</td>\n",
       "      <td>2023-07-05</td>\n",
       "      <td>20.505594</td>\n",
       "      <td>0.8</td>\n",
       "      <td>83.839161</td>\n",
       "      <td>21.682639</td>\n",
       "      <td>0.0</td>\n",
       "      <td>75.513889</td>\n",
       "    </tr>\n",
       "    <tr>\n",
       "      <th>37089</th>\n",
       "      <td>Vallès Oriental</td>\n",
       "      <td>2023-07-06</td>\n",
       "      <td>21.566667</td>\n",
       "      <td>2.3</td>\n",
       "      <td>73.333333</td>\n",
       "      <td>20.505594</td>\n",
       "      <td>0.8</td>\n",
       "      <td>83.839161</td>\n",
       "    </tr>\n",
       "    <tr>\n",
       "      <th>37090</th>\n",
       "      <td>Vallès Oriental</td>\n",
       "      <td>2023-07-07</td>\n",
       "      <td>23.202083</td>\n",
       "      <td>0.1</td>\n",
       "      <td>61.673611</td>\n",
       "      <td>21.566667</td>\n",
       "      <td>2.3</td>\n",
       "      <td>73.333333</td>\n",
       "    </tr>\n",
       "    <tr>\n",
       "      <th>37091</th>\n",
       "      <td>Vallès Oriental</td>\n",
       "      <td>2023-07-08</td>\n",
       "      <td>25.474306</td>\n",
       "      <td>0.0</td>\n",
       "      <td>55.194444</td>\n",
       "      <td>23.202083</td>\n",
       "      <td>0.1</td>\n",
       "      <td>61.673611</td>\n",
       "    </tr>\n",
       "    <tr>\n",
       "      <th>37092</th>\n",
       "      <td>Vallès Oriental</td>\n",
       "      <td>2023-07-09</td>\n",
       "      <td>25.430952</td>\n",
       "      <td>0.0</td>\n",
       "      <td>54.833333</td>\n",
       "      <td>25.474306</td>\n",
       "      <td>0.0</td>\n",
       "      <td>55.194444</td>\n",
       "    </tr>\n",
       "  </tbody>\n",
       "</table>\n",
       "<p>37093 rows × 8 columns</p>\n",
       "</div>"
      ],
      "text/plain": [
       "               comarca data_lectura       temp  precip       hume  \\\n",
       "0          Alt Penedès   2009-01-02   7.803333    10.7  91.841667   \n",
       "1          Alt Penedès   2009-01-03   7.153333     4.4  90.591667   \n",
       "2          Alt Penedès   2009-01-04   5.501667     0.0  82.900000   \n",
       "3          Alt Penedès   2009-01-05   3.429167     0.2  76.541667   \n",
       "4          Alt Penedès   2009-01-06   2.607500     6.5  84.466667   \n",
       "...                ...          ...        ...     ...        ...   \n",
       "37088  Vallès Oriental   2023-07-05  20.505594     0.8  83.839161   \n",
       "37089  Vallès Oriental   2023-07-06  21.566667     2.3  73.333333   \n",
       "37090  Vallès Oriental   2023-07-07  23.202083     0.1  61.673611   \n",
       "37091  Vallès Oriental   2023-07-08  25.474306     0.0  55.194444   \n",
       "37092  Vallès Oriental   2023-07-09  25.430952     0.0  54.833333   \n",
       "\n",
       "       temp_anterior  precip_anterior  hume_anterior  \n",
       "0           7.972500              0.6      85.850000  \n",
       "1           7.803333             10.7      91.841667  \n",
       "2           7.153333              4.4      90.591667  \n",
       "3           5.501667              0.0      82.900000  \n",
       "4           3.429167              0.2      76.541667  \n",
       "...              ...              ...            ...  \n",
       "37088      21.682639              0.0      75.513889  \n",
       "37089      20.505594              0.8      83.839161  \n",
       "37090      21.566667              2.3      73.333333  \n",
       "37091      23.202083              0.1      61.673611  \n",
       "37092      25.474306              0.0      55.194444  \n",
       "\n",
       "[37093 rows x 8 columns]"
      ]
     },
     "execution_count": 5,
     "metadata": {},
     "output_type": "execute_result"
    }
   ],
   "source": [
    "df"
   ]
  },
  {
   "cell_type": "code",
   "execution_count": 6,
   "metadata": {},
   "outputs": [],
   "source": [
    "dicc_comarques = {}\n",
    "\n",
    "# Itera sobre las comarcas únicas en el dataframe\n",
    "for comarca in df['comarca'].unique():\n",
    "    # Filtra las filas correspondientes a la comarca actual\n",
    "    df_comarca = df[df['comarca'] == comarca].copy()\n",
    "    \n",
    "    # Elimina la columna \"comarca\" del dataframe resultante\n",
    "    df_comarca.drop('comarca', axis=1, inplace=True)\n",
    "    \n",
    "    # Almacena el dataframe en el diccionario\n",
    "    dicc_comarques[comarca] = df_comarca.reset_index(drop=True)"
   ]
  },
  {
   "cell_type": "code",
   "execution_count": 7,
   "metadata": {},
   "outputs": [
    {
     "data": {
      "text/plain": [
       "['Alt Penedès',\n",
       " 'Baix Llobregat',\n",
       " 'Barcelonès',\n",
       " 'Garraf',\n",
       " 'Maresme',\n",
       " 'Vallès Occidental',\n",
       " 'Vallès Oriental']"
      ]
     },
     "execution_count": 7,
     "metadata": {},
     "output_type": "execute_result"
    }
   ],
   "source": [
    "comarques_bcn = list(dicc_comarques.keys())\n",
    "comarques_bcn"
   ]
  },
  {
   "cell_type": "code",
   "execution_count": 8,
   "metadata": {},
   "outputs": [
    {
     "data": {
      "image/png": "[encoded data removed]",
      "text/plain": [
       "<Figure size 640x480 with 2 Axes>"
      ]
     },
     "metadata": {},
     "output_type": "display_data"
    }
   ],
   "source": [
    "comarca = 0\n",
    "matriz_correlacion = dicc_comarques[comarques_bcn[comarca]].corr()\n",
    "\n",
    "fig, ax = plt.subplots()\n",
    "im = ax.imshow(matriz_correlacion, cmap='RdYlBu', vmin=-1, vmax=1,)\n",
    "cbar = ax.figure.colorbar(im, ax=ax)\n",
    "\n",
    "ax.set_xticks(range(len(matriz_correlacion.columns)))\n",
    "ax.set_yticks(range(len(matriz_correlacion.columns)))\n",
    "ax.set_xticklabels(matriz_correlacion.columns)\n",
    "ax.set_yticklabels(matriz_correlacion.columns)\n",
    "\n",
    "plt.xticks(rotation=45, ha='right')\n",
    "\n",
    "for i in range(len(matriz_correlacion.columns)):\n",
    "    for j in range(len(matriz_correlacion.columns)):\n",
    "        text = ax.text(j, i, round(matriz_correlacion.iloc[i, j], 2),\n",
    "                       ha=\"center\", va=\"center\", color=\"black\")\n",
    "\n",
    "ax.set_title(f\"Matriz de correlación - {comarques_bcn[comarca]}\")\n",
    "\n",
    "plt.show()"
   ]
  },
  {
   "cell_type": "code",
   "execution_count": 9,
   "metadata": {},
   "outputs": [],
   "source": [
    "comarca = 0\n",
    "x = dicc_comarques[comarques_bcn[comarca]].drop([\"precip\", \"data_lectura\"], axis=1)\n",
    "y = dicc_comarques[comarques_bcn[comarca]].precip\n",
    "\n",
    "x_train, x_test, y_train, y_test = train_test_split(x, y, test_size=0.2, random_state=47)"
   ]
  },
  {
   "cell_type": "code",
   "execution_count": 10,
   "metadata": {},
   "outputs": [
    {
     "name": "stdout",
     "output_type": "stream",
     "text": [
      "<class 'pandas.core.frame.DataFrame'>\n",
      "Index: 4239 entries, 881 to 5255\n",
      "Data columns (total 5 columns):\n",
      " #   Column           Non-Null Count  Dtype  \n",
      "---  ------           --------------  -----  \n",
      " 0   temp             4239 non-null   float64\n",
      " 1   hume             4239 non-null   float64\n",
      " 2   temp_anterior    4239 non-null   float64\n",
      " 3   precip_anterior  4239 non-null   float64\n",
      " 4   hume_anterior    4239 non-null   float64\n",
      "dtypes: float64(5)\n",
      "memory usage: 198.7 KB\n"
     ]
    }
   ],
   "source": [
    "x_train.info()"
   ]
  },
  {
   "cell_type": "code",
   "execution_count": 13,
   "metadata": {},
   "outputs": [
    {
     "name": "stdout",
     "output_type": "stream",
     "text": [
      "Fit&Predict with degree: 1\n",
      "[4.85029488]\n",
      "Error cuadrático medio (MSE): 367.6626654672732\n",
      "R2 Score: -0.0013216318710014274\n",
      "Fit&Predict with degree: 2\n",
      "[-1.11629456]\n",
      "Error cuadrático medio (MSE): 349.8169071875372\n",
      "R2 Score: 0.047280920090400524\n",
      "Fit&Predict with degree: 3\n",
      "[-2.66776115]\n",
      "Error cuadrático medio (MSE): 311.2688418721607\n",
      "R2 Score: 0.1522657752102593\n",
      "Fit&Predict with degree: 4\n",
      "[0.29673814]\n",
      "Error cuadrático medio (MSE): 284.6389336711882\n",
      "R2 Score: 0.2247917770072686\n",
      "Fit&Predict with degree: 5\n",
      "[1.70251717]\n",
      "Error cuadrático medio (MSE): 326.67187859428\n",
      "R2 Score: 0.11031592466788942\n",
      "Fit&Predict with degree: 6\n",
      "[-1.22872684]\n",
      "Error cuadrático medio (MSE): 4847.916809466578\n",
      "R2 Score: -12.203200723849486\n",
      "Fit&Predict with degree: 7\n",
      "[-2.796724]\n",
      "Error cuadrático medio (MSE): 461857.4468745774\n",
      "R2 Score: -1256.8591623070083\n",
      "Fit&Predict with degree: 8\n",
      "[-0.60499746]\n",
      "Error cuadrático medio (MSE): 7395342161.658828\n",
      "R2 Score: -20141059.75237544\n",
      "Fit&Predict with degree: 9\n",
      "[0.17752782]\n",
      "Error cuadrático medio (MSE): 3423274971218.893\n",
      "R2 Score: -9323218270.748009\n",
      "Fit&Predict with degree: 10\n",
      "[1.29869459]\n",
      "Error cuadrático medio (MSE): 3.4155631124171548e+16\n",
      "R2 Score: -93022151845013.4\n"
     ]
    }
   ],
   "source": [
    "for i in range(10):\n",
    "    poly_features = PolynomialFeatures(degree=i)\n",
    "    x_train_poly = poly_features.fit_transform(x_train)\n",
    "    x_test_poly = poly_features.transform(x_test)\n",
    "\n",
    "    data = pd.DataFrame({'temp' : [25.430952], 'hume' : [54.833333], 'temp_anterior' : [25.474306], 'precip_anterior' : [0.0], 'hume_anterior' : [55.194444]})\n",
    "    poly_data = poly_features.transform(data)\n",
    "\n",
    "    model = LinearRegression()\n",
    "    model.fit(x_train_poly, y_train)\n",
    "\n",
    "    y_pred = model.predict(x_test_poly)\n",
    "\n",
    "    print(f'Fit&Predict with degree: {i+1}')\n",
    "    print(model.predict(poly_data))\n",
    "    mse = mean_squared_error(y_test, y_pred)\n",
    "    r2 = r2_score(y_test, y_pred)\n",
    "    print(\"Error cuadrático medio (MSE):\", mse)\n",
    "    print(\"R2 Score:\", r2)"
   ]
  },
  {
   "cell_type": "code",
   "execution_count": 36,
   "metadata": {},
   "outputs": [
    {
     "name": "stdout",
     "output_type": "stream",
     "text": [
      "<class 'pandas.core.frame.DataFrame'>\n",
      "Index: 1060 entries, 4378 to 3732\n",
      "Data columns (total 5 columns):\n",
      " #   Column           Non-Null Count  Dtype  \n",
      "---  ------           --------------  -----  \n",
      " 0   temp             1060 non-null   float64\n",
      " 1   hume             1060 non-null   float64\n",
      " 2   temp_anterior    1060 non-null   float64\n",
      " 3   precip_anterior  1060 non-null   float64\n",
      " 4   hume_anterior    1060 non-null   float64\n",
      "dtypes: float64(5)\n",
      "memory usage: 49.7 KB\n"
     ]
    }
   ],
   "source": [
    "dicc_comarques[comarques_bcn[comarca]].dropna()['data_lectura']\n",
    "x_test.info()"
   ]
  },
  {
   "cell_type": "code",
   "execution_count": 37,
   "metadata": {},
   "outputs": [
    {
     "name": "stdout",
     "output_type": "stream",
     "text": [
      "Error cuadrático medio (MSE): 284.6389336711882\n",
      "R2 Score: 0.2247917770072686\n"
     ]
    }
   ],
   "source": [
    "y_pred = model.predict(x_test_poly)\n",
    "\n",
    "# dates = df.loc[x_test.index, 'data_lectura']\n",
    "\n",
    "# x_values = pd.date_range(start=x_test.min(), end=x_test.max(), periods=100)\n",
    "# x_values_poly = poly_features.transform(x_values.to_frame())\n",
    "# y_values_pred = model.predict(x_values_poly)\n",
    "\n",
    "# fig, ax = plt.subplots()\n",
    "# ax.scatter(dates, y_test, color='b', label='Valores Reales')\n",
    "# ax.plot(x_values, y_values_pred, color='r', label='Línea Polinomial')\n",
    "# ax.set_xlabel('Fecha')\n",
    "# ax.set_ylabel('Precipitación')\n",
    "# plt.xticks(rotation=45)\n",
    "# ax.legend()\n",
    "# plt.show()\n",
    "\n",
    "\n",
    "mse = mean_squared_error(y_test, y_pred)\n",
    "r2 = r2_score(y_test, y_pred)\n",
    "print(\"Error cuadrático medio (MSE):\", mse)\n",
    "print(\"R2 Score:\", r2)"
   ]
  },
  {
   "cell_type": "code",
   "execution_count": null,
   "metadata": {},
   "outputs": [],
   "source": []
  }
 ],
 "metadata": {
  "kernelspec": {
   "display_name": "Python 3",
   "language": "python",
   "name": "python3"
  },
  "language_info": {
   "codemirror_mode": {
    "name": "ipython",
    "version": 3
   },
   "file_extension": ".py",
   "mimetype": "text/x-python",
   "name": "python",
   "nbconvert_exporter": "python",
   "pygments_lexer": "ipython3",
   "version": "3.11.4"
  },
  "orig_nbformat": 4
 },
 "nbformat": 4,
 "nbformat_minor": 2
}

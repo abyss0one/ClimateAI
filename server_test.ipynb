{
 "cells": [
  {
   "cell_type": "code",
   "execution_count": 1,
   "metadata": {},
   "outputs": [],
   "source": [
    "import sys\n",
    "import joblib\n",
    "import pandas as pd\n",
    "from datetime import datetime"
   ]
  },
  {
   "cell_type": "code",
   "execution_count": 2,
   "metadata": {},
   "outputs": [],
   "source": [
    "def predict(model, features,fecha_actual, fecha_prediction, datos, model_temp, model_hume, features_temp, feautres_hume):\n",
    "    try:\n",
    "        # Realizar las predicciones utilizando el modelo y los parámetros\n",
    "        # Aquí debes implementar tu lógica de predicción basada en el modelo cargado\n",
    "\n",
    "        # los dos modelos necesitan valor_anterior, mes\n",
    "\n",
    "        #HACER PREDICCION DE TEMP Y HUME DESPUES DE LA PREDICCION DE PREC\n",
    "\n",
    "        # Ejemplo de predicción ficticia\n",
    "        for i in range(int(fecha_prediction)):\n",
    "            print(\"stop 0\")\n",
    "            pred_poly = features.transform(datos)\n",
    "            prediction = model.predict(pred_poly)\n",
    "            print(\"stop 1\")\n",
    "            print(datos.temp.values)\n",
    "            datos_temp = pd.DataFrame({'valor_anterior': datos.temp.values, 'mes': [fecha_actual.month]})\n",
    "            print(datos_temp)\n",
    "            datos_hume = pd.DataFrame({'valor_anterior': datos.hume.values, 'mes': [fecha_actual.month]})\n",
    "            print(datos_hume)\n",
    "            aux = datos\n",
    "            print(\"stop 2\")\n",
    "            poly_temp = features_temp.transform(datos_temp)\n",
    "            pred_temp = model_temp.predict(poly_temp)\n",
    "            print(\"pred temp : \", pred_temp)\n",
    "            print(\"stop 3\")\n",
    "            poly_hume = feautres_hume.transform(datos_hume)\n",
    "            pred_hume = model_hume.predict(poly_hume)\n",
    "            print(\"pred hume : \", pred_hume)\n",
    "            print(\"stop 4\")\n",
    "\n",
    "            # datos = [[pred_temp[0], pred_hume[0], aux[0], prediction[0], aux[1]]]\n",
    "            datos = pd.DataFrame({'temp': pred_temp, 'hume':pred_hume, 'temp_anterior': aux.temp.values, 'precip_anterior': prediction, 'hume_anterior':aux.hume.values})\n",
    "            print(\"datos al final:\\n\", datos)\n",
    "            fecha_actual += pd.Timedelta(days=1)\n",
    "\n",
    "        \n",
    "        return prediction\n",
    "    except Exception as e:\n",
    "        print(f\"Error al realizar la predicción: {str(e)}\")\n",
    "        return None"
   ]
  },
  {
   "cell_type": "code",
   "execution_count": 3,
   "metadata": {},
   "outputs": [
    {
     "ename": "KeyError",
     "evalue": "160",
     "output_type": "error",
     "traceback": [
      "\u001b[1;31m---------------------------------------------------------------------------\u001b[0m",
      "\u001b[1;31mKeyError\u001b[0m                                  Traceback (most recent call last)",
      "\u001b[1;32m~\\AppData\\Local\\Temp\\ipykernel_16612\\1081064819.py\u001b[0m in \u001b[0;36m<module>\u001b[1;34m\u001b[0m\n\u001b[0;32m      3\u001b[0m     \u001b[0mfecha_prediction\u001b[0m \u001b[1;33m=\u001b[0m \u001b[1;36m360\u001b[0m\u001b[1;33m\u001b[0m\u001b[1;33m\u001b[0m\u001b[0m\n\u001b[0;32m      4\u001b[0m \u001b[1;33m\u001b[0m\u001b[0m\n\u001b[1;32m----> 5\u001b[1;33m     \u001b[0mdict_models\u001b[0m \u001b[1;33m=\u001b[0m \u001b[0mjoblib\u001b[0m\u001b[1;33m.\u001b[0m\u001b[0mload\u001b[0m\u001b[1;33m(\u001b[0m\u001b[1;34m\"./models/all_models.pkl\"\u001b[0m\u001b[1;33m)\u001b[0m\u001b[1;33m\u001b[0m\u001b[1;33m\u001b[0m\u001b[0m\n\u001b[0m\u001b[0;32m      6\u001b[0m     \u001b[0mdict_features\u001b[0m \u001b[1;33m=\u001b[0m \u001b[0mjoblib\u001b[0m\u001b[1;33m.\u001b[0m\u001b[0mload\u001b[0m\u001b[1;33m(\u001b[0m\u001b[1;34m\"./models/all_features.pkl\"\u001b[0m\u001b[1;33m)\u001b[0m\u001b[1;33m\u001b[0m\u001b[1;33m\u001b[0m\u001b[0m\n\u001b[0;32m      7\u001b[0m     \u001b[0mdict_comarques\u001b[0m \u001b[1;33m=\u001b[0m \u001b[0mjoblib\u001b[0m\u001b[1;33m.\u001b[0m\u001b[0mload\u001b[0m\u001b[1;33m(\u001b[0m\u001b[1;34m\"./comarques.joblib\"\u001b[0m\u001b[1;33m)\u001b[0m\u001b[1;33m\u001b[0m\u001b[1;33m\u001b[0m\u001b[0m\n",
      "\u001b[1;32mc:\\Users\\laiag\\anaconda3\\lib\\site-packages\\joblib\\numpy_pickle.py\u001b[0m in \u001b[0;36mload\u001b[1;34m(filename, mmap_mode)\u001b[0m\n\u001b[0;32m    585\u001b[0m                     \u001b[1;32mreturn\u001b[0m \u001b[0mload_compatibility\u001b[0m\u001b[1;33m(\u001b[0m\u001b[0mfobj\u001b[0m\u001b[1;33m)\u001b[0m\u001b[1;33m\u001b[0m\u001b[1;33m\u001b[0m\u001b[0m\n\u001b[0;32m    586\u001b[0m \u001b[1;33m\u001b[0m\u001b[0m\n\u001b[1;32m--> 587\u001b[1;33m                 \u001b[0mobj\u001b[0m \u001b[1;33m=\u001b[0m \u001b[0m_unpickle\u001b[0m\u001b[1;33m(\u001b[0m\u001b[0mfobj\u001b[0m\u001b[1;33m,\u001b[0m \u001b[0mfilename\u001b[0m\u001b[1;33m,\u001b[0m \u001b[0mmmap_mode\u001b[0m\u001b[1;33m)\u001b[0m\u001b[1;33m\u001b[0m\u001b[1;33m\u001b[0m\u001b[0m\n\u001b[0m\u001b[0;32m    588\u001b[0m     \u001b[1;32mreturn\u001b[0m \u001b[0mobj\u001b[0m\u001b[1;33m\u001b[0m\u001b[1;33m\u001b[0m\u001b[0m\n",
      "\u001b[1;32mc:\\Users\\laiag\\anaconda3\\lib\\site-packages\\joblib\\numpy_pickle.py\u001b[0m in \u001b[0;36m_unpickle\u001b[1;34m(fobj, filename, mmap_mode)\u001b[0m\n\u001b[0;32m    504\u001b[0m     \u001b[0mobj\u001b[0m \u001b[1;33m=\u001b[0m \u001b[1;32mNone\u001b[0m\u001b[1;33m\u001b[0m\u001b[1;33m\u001b[0m\u001b[0m\n\u001b[0;32m    505\u001b[0m     \u001b[1;32mtry\u001b[0m\u001b[1;33m:\u001b[0m\u001b[1;33m\u001b[0m\u001b[1;33m\u001b[0m\u001b[0m\n\u001b[1;32m--> 506\u001b[1;33m         \u001b[0mobj\u001b[0m \u001b[1;33m=\u001b[0m \u001b[0munpickler\u001b[0m\u001b[1;33m.\u001b[0m\u001b[0mload\u001b[0m\u001b[1;33m(\u001b[0m\u001b[1;33m)\u001b[0m\u001b[1;33m\u001b[0m\u001b[1;33m\u001b[0m\u001b[0m\n\u001b[0m\u001b[0;32m    507\u001b[0m         \u001b[1;32mif\u001b[0m \u001b[0munpickler\u001b[0m\u001b[1;33m.\u001b[0m\u001b[0mcompat_mode\u001b[0m\u001b[1;33m:\u001b[0m\u001b[1;33m\u001b[0m\u001b[1;33m\u001b[0m\u001b[0m\n\u001b[0;32m    508\u001b[0m             warnings.warn(\"The file '%s' has been generated with a \"\n",
      "\u001b[1;32mc:\\Users\\laiag\\anaconda3\\lib\\pickle.py\u001b[0m in \u001b[0;36mload\u001b[1;34m(self)\u001b[0m\n\u001b[0;32m   1210\u001b[0m                     \u001b[1;32mraise\u001b[0m \u001b[0mEOFError\u001b[0m\u001b[1;33m\u001b[0m\u001b[1;33m\u001b[0m\u001b[0m\n\u001b[0;32m   1211\u001b[0m                 \u001b[1;32massert\u001b[0m \u001b[0misinstance\u001b[0m\u001b[1;33m(\u001b[0m\u001b[0mkey\u001b[0m\u001b[1;33m,\u001b[0m \u001b[0mbytes_types\u001b[0m\u001b[1;33m)\u001b[0m\u001b[1;33m\u001b[0m\u001b[1;33m\u001b[0m\u001b[0m\n\u001b[1;32m-> 1212\u001b[1;33m                 \u001b[0mdispatch\u001b[0m\u001b[1;33m[\u001b[0m\u001b[0mkey\u001b[0m\u001b[1;33m[\u001b[0m\u001b[1;36m0\u001b[0m\u001b[1;33m]\u001b[0m\u001b[1;33m]\u001b[0m\u001b[1;33m(\u001b[0m\u001b[0mself\u001b[0m\u001b[1;33m)\u001b[0m\u001b[1;33m\u001b[0m\u001b[1;33m\u001b[0m\u001b[0m\n\u001b[0m\u001b[0;32m   1213\u001b[0m         \u001b[1;32mexcept\u001b[0m \u001b[0m_Stop\u001b[0m \u001b[1;32mas\u001b[0m \u001b[0mstopinst\u001b[0m\u001b[1;33m:\u001b[0m\u001b[1;33m\u001b[0m\u001b[1;33m\u001b[0m\u001b[0m\n\u001b[0;32m   1214\u001b[0m             \u001b[1;32mreturn\u001b[0m \u001b[0mstopinst\u001b[0m\u001b[1;33m.\u001b[0m\u001b[0mvalue\u001b[0m\u001b[1;33m\u001b[0m\u001b[1;33m\u001b[0m\u001b[0m\n",
      "\u001b[1;31mKeyError\u001b[0m: 160"
     ]
    }
   ],
   "source": [
    "if (True):\n",
    "    id_comarca = int(16)\n",
    "    fecha_prediction = 360\n",
    "    \n",
    "    dict_models = joblib.load(\"./models/all_models.pkl\")\n",
    "    dict_features = joblib.load(\"./models/all_features.pkl\")\n",
    "    dict_comarques = joblib.load(\"./comarques.joblib\")\n",
    "    dict_models_temp = joblib.load(\"./models/all_temp_models.pkl\")\n",
    "    dict_models_hume = joblib.load(\"./models/all_hume_models.pkl\")\n",
    "    dict_features_temp = joblib.load(\"./models/all_temp_features.pkl\")\n",
    "    dict_features_hume = joblib.load(\"./models/all_hume_features.pkl\")\n",
    "\n",
    "    df = pd.read_csv(\"./datasets_models/data.csv\")\n",
    "    df['data_lectura'] = pd.to_datetime(df['data_lectura'])\n",
    "\n",
    "    df = df[df['comarca'] == dict_comarques[id_comarca]].sort_values(by='data_lectura', ascending=False)\n",
    "    fecha_actualizada = df.iloc[0]['data_lectura']\n",
    "    datos =  df.iloc[0][['temp', 'hume', 'temp_anterior', 'precip_anterior', 'hume_anterior']]\n",
    "    datos = pd.DataFrame(datos).T.reset_index(drop=True)\n",
    "    print(datos)\n",
    "    if dict_models is not None:\n",
    "        # Realizar la predicción\n",
    "        prediction = predict(dict_models[dict_comarques[id_comarca]], dict_features[dict_comarques[id_comarca]], fecha_actualizada, fecha_prediction, datos, dict_models_temp[dict_comarques[id_comarca]], dict_models_hume[dict_comarques[id_comarca]], dict_features_temp[dict_comarques[id_comarca]], dict_features_hume[dict_comarques[id_comarca]])\n",
    "        print(\"Predicción:\", prediction)\n",
    "else:\n",
    "    print(\"Por favor, especifique la ruta del modelo y los parámetros como argumentos.\")"
   ]
  },
  {
   "cell_type": "code",
   "execution_count": null,
   "metadata": {},
   "outputs": [],
   "source": []
  }
 ],
 "metadata": {
  "kernelspec": {
   "display_name": "Python 3",
   "language": "python",
   "name": "python3"
  },
  "language_info": {
   "codemirror_mode": {
    "name": "ipython",
    "version": 3
   },
   "file_extension": ".py",
   "mimetype": "text/x-python",
   "name": "python",
   "nbconvert_exporter": "python",
   "pygments_lexer": "ipython3",
   "version": "3.11.4"
  },
  "orig_nbformat": 4
 },
 "nbformat": 4,
 "nbformat_minor": 2
}

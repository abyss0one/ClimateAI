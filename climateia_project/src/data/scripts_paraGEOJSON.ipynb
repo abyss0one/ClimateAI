{
 "cells": [
  {
   "cell_type": "markdown",
   "metadata": {},
   "source": [
    "### Verificación igualdad de datos entre db y geojson."
   ]
  },
  {
   "cell_type": "code",
   "execution_count": null,
   "metadata": {},
   "outputs": [],
   "source": [
    "import json\n",
    "\n",
    "# Leer el archivo JSON\n",
    "with open('./comarcas.json') as json_file:\n",
    "    data = json.load(json_file)\n",
    "    comarcas_json = [feature['properties']['nom_comar'] for feature in data['features']]\n",
    "\n",
    "# Leer el archivo de texto\n",
    "with open('./DB_estaciones.txt') as txt_file:\n",
    "    lines = txt_file.readlines()\n",
    "    comarcas_txt = [line.split(';')[0] for line in lines[1:]]\n",
    "\n",
    "# Comparar las comarcas\n",
    "comarcas_comunes = set(comarcas_json).intersection(comarcas_txt)\n",
    "\n",
    "# Imprimir las comarcas comunes\n",
    "if len(comarcas_comunes) > 0:\n",
    "    print(\"Las siguientes comarcas aparecen en ambos archivos:\")\n",
    "    for comarca in comarcas_comunes:\n",
    "        print(comarca)\n",
    "else:\n",
    "    print(\"No hay comarcas en común entre los archivos.\")\n",
    "\n",
    "print(f\"Existen {len(comarcas_comunes)} comarcas con mismo nombre entre ambos archivos\")\n"
   ]
  },
  {
   "cell_type": "markdown",
   "metadata": {},
   "source": [
    "### Generar datos rdn para geojson feature properties"
   ]
  },
  {
   "cell_type": "code",
   "execution_count": null,
   "metadata": {},
   "outputs": [],
   "source": [
    "import json\n",
    "import random\n",
    "\n",
    "# Leer el archivo GeoJSON\n",
    "with open('./comarcas.json', 'r', encoding='utf-8') as file:\n",
    "    geojson_data = json.load(file)\n",
    "\n",
    "# Iterar sobre las características\n",
    "for feature in geojson_data['features']:\n",
    "    # Obtener el nombre de la comarca\n",
    "    nom_comar = feature['properties']['nom_comar']\n",
    "    \n",
    "    # Generar valores aleatorios para los datos climáticos\n",
    "    temperatura_media = round(random.uniform(10, 30), 2)\n",
    "    precipitacion_media = round(random.uniform(0, 100), 2)\n",
    "    humedad_media = round(random.uniform(0, 100), 2)\n",
    "    \n",
    "    # Agregar los nuevos datos climáticos a las propiedades\n",
    "    feature['properties']['temperatura_media'] = temperatura_media\n",
    "    feature['properties']['precipitacion_media'] = precipitacion_media\n",
    "    feature['properties']['humedad_media'] = humedad_media\n",
    "\n",
    "# Guardar el archivo GeoJSON actualizado sin alterar los caracteres especiales\n",
    "with open('archivo_actualizado.geojson', 'w', encoding='utf-8') as file:\n",
    "    json.dump(geojson_data, file, ensure_ascii=False)\n"
   ]
  },
  {
   "cell_type": "code",
   "execution_count": 1,
   "metadata": {},
   "outputs": [
    {
     "name": "stdout",
     "output_type": "stream",
     "text": [
      "Archivo JSON guardado correctamente en: ./datagenerated_defaultprediction.json\n"
     ]
    }
   ],
   "source": [
    "import json\n",
    "\n",
    "data = {\n",
    "    \"temperatura\": \"12.4\",\n",
    "    \"precipitación\": \"12\",\n",
    "    \"SPI\": \"1.3\",\n",
    "}\n",
    "\n",
    "json_data = json.dumps(data, indent=2)\n",
    "\n",
    "file_path = './datagenerated_defaultprediction.json'  # Cambia esta ruta a la ruta donde deseas guardar el archivo\n",
    "\n",
    "try:\n",
    "    with open(file_path, 'w') as file:\n",
    "        file.write(json_data)\n",
    "    print(f'Archivo JSON guardado correctamente en: {file_path}')\n",
    "except IOError as e:\n",
    "    print(f'Error al guardar el archivo: {e}')\n"
   ]
  }
 ],
 "metadata": {
  "kernelspec": {
   "display_name": "base",
   "language": "python",
   "name": "python3"
  },
  "language_info": {
   "codemirror_mode": {
    "name": "ipython",
    "version": 3
   },
   "file_extension": ".py",
   "mimetype": "text/x-python",
   "name": "python",
   "nbconvert_exporter": "python",
   "pygments_lexer": "ipython3",
   "version": "3.10.9"
  },
  "orig_nbformat": 4
 },
 "nbformat": 4,
 "nbformat_minor": 2
}

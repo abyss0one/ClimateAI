{
 "cells": [
  {
   "cell_type": "markdown",
   "metadata": {},
   "source": [
    "### Verificación constencia de datos entre db y geojson."
   ]
  },
  {
   "cell_type": "code",
   "execution_count": 7,
   "metadata": {},
   "outputs": [
    {
     "name": "stdout",
     "output_type": "stream",
     "text": [
      "Las siguientes comarcas aparecen en ambos archivos:\n",
      "Segrià\n",
      "Segarra\n",
      "Ripollès\n",
      "Solsonès\n",
      "Baix Camp\n",
      "Noguera\n",
      "Garrotxa\n",
      "Terra Alta\n",
      "Pallars Sobirà\n",
      "Tarragonès\n",
      "Berguedà\n",
      "Alt Camp\n",
      "Conca de Barberà\n",
      "Urgell\n",
      "Alt Empordà\n",
      "Montsià\n",
      "Vallès Occidental\n",
      "Pla de l'Estany\n",
      "Baix Ebre\n",
      "Alta Ribagorça\n",
      "Baix Llobregat\n",
      "Barcelonès\n",
      "Baix Empordà\n",
      "Maresme\n",
      "Selva\n",
      "Cerdanya\n",
      "Bages\n",
      "Vallès Oriental\n",
      "Anoia\n",
      "Gironès\n",
      "Garrigues\n",
      "Garraf\n",
      "Baix Penedès\n",
      "Ribera d'Ebre\n",
      "Alt Penedès\n",
      "Alt Urgell\n",
      "Val d'Aran\n",
      "Priorat\n",
      "Pallars Jussà\n",
      "Pla d'Urgell\n",
      "Osona\n",
      "Existen 41 comarcas con mismo nombre entre ambos archivos\n"
     ]
    }
   ],
   "source": [
    "import json\n",
    "\n",
    "# Leer el archivo JSON\n",
    "with open('./comarcas.json') as json_file:\n",
    "    data = json.load(json_file)\n",
    "    comarcas_json = [feature['properties']['nom_comar'] for feature in data['features']]\n",
    "\n",
    "# Leer el archivo de texto\n",
    "with open('./DB_estaciones.txt') as txt_file:\n",
    "    lines = txt_file.readlines()\n",
    "    comarcas_txt = [line.split(';')[0] for line in lines[1:]]\n",
    "\n",
    "# Comparar las comarcas\n",
    "comarcas_comunes = set(comarcas_json).intersection(comarcas_txt)\n",
    "\n",
    "# Imprimir las comarcas comunes\n",
    "if len(comarcas_comunes) > 0:\n",
    "    print(\"Las siguientes comarcas aparecen en ambos archivos:\")\n",
    "    for comarca in comarcas_comunes:\n",
    "        print(comarca)\n",
    "else:\n",
    "    print(\"No hay comarcas en común entre los archivos.\")\n",
    "\n",
    "print(f\"Existen {len(comarcas_comunes)} comarcas con mismo nombre entre ambos archivos\")\n"
   ]
  }
 ],
 "metadata": {
  "kernelspec": {
   "display_name": "base",
   "language": "python",
   "name": "python3"
  },
  "language_info": {
   "codemirror_mode": {
    "name": "ipython",
    "version": 3
   },
   "file_extension": ".py",
   "mimetype": "text/x-python",
   "name": "python",
   "nbconvert_exporter": "python",
   "pygments_lexer": "ipython3",
   "version": "3.10.9"
  },
  "orig_nbformat": 4
 },
 "nbformat": 4,
 "nbformat_minor": 2
}

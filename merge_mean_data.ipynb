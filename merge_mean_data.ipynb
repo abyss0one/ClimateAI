{
 "cells": [
  {
   "cell_type": "code",
   "execution_count": 27,
   "metadata": {},
   "outputs": [],
   "source": [
    "import pandas as pd"
   ]
  },
  {
   "cell_type": "code",
   "execution_count": 28,
   "metadata": {},
   "outputs": [],
   "source": [
    "folder = \"./datasets_models/\"\n",
    "data_labels = [\"temp\", \"precip\", \"hume\"]\n",
    "df_list = [pd.read_csv(folder + f\"mean_{i}_x_day.csv\") for i in data_labels]"
   ]
  },
  {
   "cell_type": "code",
   "execution_count": 31,
   "metadata": {},
   "outputs": [
    {
     "data": {
      "text/plain": [
       "[                 comarca  codi_variable data_lectura  valor_lectura\n",
       " 0        Vallès Oriental             32   2009-01-01       8.059722\n",
       " 1        Vallès Oriental             32   2009-01-02       7.416667\n",
       " 2        Vallès Oriental             32   2009-01-03       5.665278\n",
       " 3        Vallès Oriental             32   2009-01-04       4.345833\n",
       " 4        Vallès Oriental             32   2009-01-05       3.138824\n",
       " ...                  ...            ...          ...            ...\n",
       " 37095  Vallès Occidental             32   2023-07-05      21.832143\n",
       " 37096  Vallès Occidental             32   2023-07-06      22.760119\n",
       " 37097  Vallès Occidental             32   2023-07-07      23.723214\n",
       " 37098  Vallès Occidental             32   2023-07-08      25.869048\n",
       " 37099  Vallès Occidental             32   2023-07-09      25.338776\n",
       " \n",
       " [37100 rows x 4 columns],\n",
       "                  comarca  codi_variable data_lectura  valor_lectura\n",
       " 0        Vallès Oriental             35   2009-01-01            0.0\n",
       " 1        Vallès Oriental             35   2009-01-02            0.8\n",
       " 2        Vallès Oriental             35   2009-01-03            0.0\n",
       " 3        Vallès Oriental             35   2009-01-04            0.2\n",
       " 4        Vallès Oriental             35   2009-01-05            0.2\n",
       " ...                  ...            ...          ...            ...\n",
       " 37095  Vallès Occidental             35   2023-07-05            1.2\n",
       " 37096  Vallès Occidental             35   2023-07-06            2.0\n",
       " 37097  Vallès Occidental             35   2023-07-07            0.0\n",
       " 37098  Vallès Occidental             35   2023-07-08            0.0\n",
       " 37099  Vallès Occidental             35   2023-07-09            0.0\n",
       " \n",
       " [37100 rows x 4 columns],\n",
       "                  comarca  codi_variable data_lectura  valor_lectura\n",
       " 0        Vallès Oriental             33   2009-01-01      86.152778\n",
       " 1        Vallès Oriental             33   2009-01-02      91.291667\n",
       " 2        Vallès Oriental             33   2009-01-03      92.083333\n",
       " 3        Vallès Oriental             33   2009-01-04      81.638889\n",
       " 4        Vallès Oriental             33   2009-01-05      76.811765\n",
       " ...                  ...            ...          ...            ...\n",
       " 37095  Vallès Occidental             33   2023-07-05      84.946429\n",
       " 37096  Vallès Occidental             33   2023-07-06      76.791667\n",
       " 37097  Vallès Occidental             33   2023-07-07      68.672619\n",
       " 37098  Vallès Occidental             33   2023-07-08      61.208333\n",
       " 37099  Vallès Occidental             33   2023-07-09      63.390476\n",
       " \n",
       " [37100 rows x 4 columns]]"
      ]
     },
     "execution_count": 31,
     "metadata": {},
     "output_type": "execute_result"
    }
   ],
   "source": [
    "df_list"
   ]
  },
  {
   "cell_type": "code",
   "execution_count": 32,
   "metadata": {},
   "outputs": [],
   "source": [
    "for i, label in enumerate(data_labels):\n",
    "    df_list[0][label] = df_list[i].valor_lectura"
   ]
  },
  {
   "cell_type": "code",
   "execution_count": 34,
   "metadata": {},
   "outputs": [],
   "source": [
    "df_res = df_list[0].drop([\"valor_lectura\", \"codi_variable\"],axis=1)"
   ]
  },
  {
   "cell_type": "code",
   "execution_count": 36,
   "metadata": {},
   "outputs": [
    {
     "data": {
      "text/html": [
       "<div>\n",
       "<style scoped>\n",
       "    .dataframe tbody tr th:only-of-type {\n",
       "        vertical-align: middle;\n",
       "    }\n",
       "\n",
       "    .dataframe tbody tr th {\n",
       "        vertical-align: top;\n",
       "    }\n",
       "\n",
       "    .dataframe thead th {\n",
       "        text-align: right;\n",
       "    }\n",
       "</style>\n",
       "<table border=\"1\" class=\"dataframe\">\n",
       "  <thead>\n",
       "    <tr style=\"text-align: right;\">\n",
       "      <th></th>\n",
       "      <th>temp</th>\n",
       "      <th>precip</th>\n",
       "      <th>hume</th>\n",
       "    </tr>\n",
       "  </thead>\n",
       "  <tbody>\n",
       "    <tr>\n",
       "      <th>count</th>\n",
       "      <td>37100.000000</td>\n",
       "      <td>37100.000000</td>\n",
       "      <td>37100.000000</td>\n",
       "    </tr>\n",
       "    <tr>\n",
       "      <th>mean</th>\n",
       "      <td>15.298610</td>\n",
       "      <td>4.104873</td>\n",
       "      <td>70.308566</td>\n",
       "    </tr>\n",
       "    <tr>\n",
       "      <th>std</th>\n",
       "      <td>6.339120</td>\n",
       "      <td>17.161556</td>\n",
       "      <td>11.707444</td>\n",
       "    </tr>\n",
       "    <tr>\n",
       "      <th>min</th>\n",
       "      <td>-4.170833</td>\n",
       "      <td>0.000000</td>\n",
       "      <td>16.091667</td>\n",
       "    </tr>\n",
       "    <tr>\n",
       "      <th>25%</th>\n",
       "      <td>10.198958</td>\n",
       "      <td>0.000000</td>\n",
       "      <td>62.677083</td>\n",
       "    </tr>\n",
       "    <tr>\n",
       "      <th>50%</th>\n",
       "      <td>14.873958</td>\n",
       "      <td>0.000000</td>\n",
       "      <td>71.150000</td>\n",
       "    </tr>\n",
       "    <tr>\n",
       "      <th>75%</th>\n",
       "      <td>20.745982</td>\n",
       "      <td>0.300000</td>\n",
       "      <td>78.763889</td>\n",
       "    </tr>\n",
       "    <tr>\n",
       "      <th>max</th>\n",
       "      <td>30.644167</td>\n",
       "      <td>388.200000</td>\n",
       "      <td>100.000000</td>\n",
       "    </tr>\n",
       "  </tbody>\n",
       "</table>\n",
       "</div>"
      ],
      "text/plain": [
       "               temp        precip          hume\n",
       "count  37100.000000  37100.000000  37100.000000\n",
       "mean      15.298610      4.104873     70.308566\n",
       "std        6.339120     17.161556     11.707444\n",
       "min       -4.170833      0.000000     16.091667\n",
       "25%       10.198958      0.000000     62.677083\n",
       "50%       14.873958      0.000000     71.150000\n",
       "75%       20.745982      0.300000     78.763889\n",
       "max       30.644167    388.200000    100.000000"
      ]
     },
     "execution_count": 36,
     "metadata": {},
     "output_type": "execute_result"
    }
   ],
   "source": [
    "df_res.describe()"
   ]
  },
  {
   "cell_type": "code",
   "execution_count": 13,
   "metadata": {},
   "outputs": [],
   "source": [
    "df_res.to_csv(folder + \"mean_data_x_day.csv\", index=False)"
   ]
  }
 ],
 "metadata": {
  "kernelspec": {
   "display_name": "Python 3",
   "language": "python",
   "name": "python3"
  },
  "language_info": {
   "codemirror_mode": {
    "name": "ipython",
    "version": 3
   },
   "file_extension": ".py",
   "mimetype": "text/x-python",
   "name": "python",
   "nbconvert_exporter": "python",
   "pygments_lexer": "ipython3",
   "version": "3.11.4"
  },
  "orig_nbformat": 4
 },
 "nbformat": 4,
 "nbformat_minor": 2
}

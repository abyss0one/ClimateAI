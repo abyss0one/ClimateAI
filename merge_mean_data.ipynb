{
 "cells": [
  {
   "cell_type": "code",
   "execution_count": 1,
   "metadata": {},
   "outputs": [],
   "source": [
    "import pandas as pd"
   ]
  },
  {
   "cell_type": "code",
   "execution_count": 7,
   "metadata": {},
   "outputs": [],
   "source": [
    "folder = \"./datasets_models/\"\n",
    "data_labels = [\"temp\", \"precip\", \"hume\"]\n",
    "df_list = [pd.read_csv(folder + f\"mean_{i}_x_day.csv\").drop(['Unnamed: 0'],axis=1) for i in data_labels]"
   ]
  },
  {
   "cell_type": "code",
   "execution_count": 11,
   "metadata": {},
   "outputs": [
    {
     "data": {
      "text/html": [
       "<div>\n",
       "<style scoped>\n",
       "    .dataframe tbody tr th:only-of-type {\n",
       "        vertical-align: middle;\n",
       "    }\n",
       "\n",
       "    .dataframe tbody tr th {\n",
       "        vertical-align: top;\n",
       "    }\n",
       "\n",
       "    .dataframe thead th {\n",
       "        text-align: right;\n",
       "    }\n",
       "</style>\n",
       "<table border=\"1\" class=\"dataframe\">\n",
       "  <thead>\n",
       "    <tr style=\"text-align: right;\">\n",
       "      <th></th>\n",
       "      <th>comarca</th>\n",
       "      <th>codi_variable</th>\n",
       "      <th>data_lectura</th>\n",
       "      <th>valor_lectura</th>\n",
       "    </tr>\n",
       "  </thead>\n",
       "  <tbody>\n",
       "    <tr>\n",
       "      <th>0</th>\n",
       "      <td>Vallès Oriental</td>\n",
       "      <td>32</td>\n",
       "      <td>2009-01-01</td>\n",
       "      <td>8.059722</td>\n",
       "    </tr>\n",
       "    <tr>\n",
       "      <th>1</th>\n",
       "      <td>Vallès Oriental</td>\n",
       "      <td>32</td>\n",
       "      <td>2009-01-02</td>\n",
       "      <td>7.416667</td>\n",
       "    </tr>\n",
       "    <tr>\n",
       "      <th>2</th>\n",
       "      <td>Vallès Oriental</td>\n",
       "      <td>32</td>\n",
       "      <td>2009-01-03</td>\n",
       "      <td>5.665278</td>\n",
       "    </tr>\n",
       "    <tr>\n",
       "      <th>3</th>\n",
       "      <td>Vallès Oriental</td>\n",
       "      <td>32</td>\n",
       "      <td>2009-01-04</td>\n",
       "      <td>4.345833</td>\n",
       "    </tr>\n",
       "    <tr>\n",
       "      <th>4</th>\n",
       "      <td>Vallès Oriental</td>\n",
       "      <td>32</td>\n",
       "      <td>2009-01-05</td>\n",
       "      <td>3.138824</td>\n",
       "    </tr>\n",
       "    <tr>\n",
       "      <th>...</th>\n",
       "      <td>...</td>\n",
       "      <td>...</td>\n",
       "      <td>...</td>\n",
       "      <td>...</td>\n",
       "    </tr>\n",
       "    <tr>\n",
       "      <th>37095</th>\n",
       "      <td>Vallès Occidental</td>\n",
       "      <td>32</td>\n",
       "      <td>2023-07-05</td>\n",
       "      <td>21.832143</td>\n",
       "    </tr>\n",
       "    <tr>\n",
       "      <th>37096</th>\n",
       "      <td>Vallès Occidental</td>\n",
       "      <td>32</td>\n",
       "      <td>2023-07-06</td>\n",
       "      <td>22.760119</td>\n",
       "    </tr>\n",
       "    <tr>\n",
       "      <th>37097</th>\n",
       "      <td>Vallès Occidental</td>\n",
       "      <td>32</td>\n",
       "      <td>2023-07-07</td>\n",
       "      <td>23.723214</td>\n",
       "    </tr>\n",
       "    <tr>\n",
       "      <th>37098</th>\n",
       "      <td>Vallès Occidental</td>\n",
       "      <td>32</td>\n",
       "      <td>2023-07-08</td>\n",
       "      <td>25.869048</td>\n",
       "    </tr>\n",
       "    <tr>\n",
       "      <th>37099</th>\n",
       "      <td>Vallès Occidental</td>\n",
       "      <td>32</td>\n",
       "      <td>2023-07-09</td>\n",
       "      <td>25.338776</td>\n",
       "    </tr>\n",
       "  </tbody>\n",
       "</table>\n",
       "<p>37100 rows × 4 columns</p>\n",
       "</div>"
      ],
      "text/plain": [
       "                 comarca  codi_variable data_lectura  valor_lectura\n",
       "0        Vallès Oriental             32   2009-01-01       8.059722\n",
       "1        Vallès Oriental             32   2009-01-02       7.416667\n",
       "2        Vallès Oriental             32   2009-01-03       5.665278\n",
       "3        Vallès Oriental             32   2009-01-04       4.345833\n",
       "4        Vallès Oriental             32   2009-01-05       3.138824\n",
       "...                  ...            ...          ...            ...\n",
       "37095  Vallès Occidental             32   2023-07-05      21.832143\n",
       "37096  Vallès Occidental             32   2023-07-06      22.760119\n",
       "37097  Vallès Occidental             32   2023-07-07      23.723214\n",
       "37098  Vallès Occidental             32   2023-07-08      25.869048\n",
       "37099  Vallès Occidental             32   2023-07-09      25.338776\n",
       "\n",
       "[37100 rows x 4 columns]"
      ]
     },
     "execution_count": 11,
     "metadata": {},
     "output_type": "execute_result"
    }
   ],
   "source": [
    "df_list[0]"
   ]
  },
  {
   "cell_type": "code",
   "execution_count": 13,
   "metadata": {},
   "outputs": [],
   "source": [
    "for i, label in enumerate(data_labels):\n",
    "    df_list[0][label] = df_list[i].valor_lectura"
   ]
  },
  {
   "cell_type": "code",
   "execution_count": 17,
   "metadata": {},
   "outputs": [],
   "source": [
    "df_res = df_list[0].drop([\"valor_lectura\", \"codi_variable\"],axis=1)"
   ]
  },
  {
   "cell_type": "code",
   "execution_count": 19,
   "metadata": {},
   "outputs": [],
   "source": [
    "df_res.to_csv(folder + \"mean_data_x_day.csv\", index=False)"
   ]
  }
 ],
 "metadata": {
  "kernelspec": {
   "display_name": "Python 3",
   "language": "python",
   "name": "python3"
  },
  "language_info": {
   "codemirror_mode": {
    "name": "ipython",
    "version": 3
   },
   "file_extension": ".py",
   "mimetype": "text/x-python",
   "name": "python",
   "nbconvert_exporter": "python",
   "pygments_lexer": "ipython3",
   "version": "3.11.4"
  },
  "orig_nbformat": 4
 },
 "nbformat": 4,
 "nbformat_minor": 2
}
